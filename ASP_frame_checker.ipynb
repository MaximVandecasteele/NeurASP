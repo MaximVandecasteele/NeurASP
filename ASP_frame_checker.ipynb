{
 "cells": [
  {
   "cell_type": "code",
   "execution_count": 1,
   "id": "initial_id",
   "metadata": {
    "collapsed": true,
    "ExecuteTime": {
     "end_time": "2024-04-10T19:32:10.129528Z",
     "start_time": "2024-04-10T19:32:07.422971Z"
    }
   },
   "outputs": [],
   "source": [
    "from mario_vanilla.symbolic_components.detector import Detector\n",
    "from mario_vanilla.symbolic_components.positioner import Positioner\n",
    "import numpy as np"
   ]
  },
  {
   "cell_type": "code",
   "outputs": [],
   "source": [
    "config = {# input dimensions of observation (64 objects of 5 characteristics, class, xmin, xmax, ymin, ymax)\n",
    "            \"observation_dim\": (15, 16),\n",
    "            # amount of frames to skip\n",
    "            \"skip\": 4,\n",
    "            # VecFrameStack\n",
    "            \"stack_size\": 4,\n",
    "            \"detector_model_path\": '/Users/maximvandecasteele/PycharmProjects/NeurASP/Object_detector/models/YOLOv8-Mario-lvl1-3/weights/best.pt',\n",
    "            \"detector_label_path\": '/Users/maximvandecasteele/PycharmProjects/NeurASP/Object_detector/models/data.yaml',\n",
    "            \"positions_asp\": '/Users/maximvandecasteele/PycharmProjects/NeurASP/mario_vanilla/asp/positions.lp',\n",
    "            \"show_asp\": '/Users/maximvandecasteele/PycharmProjects/NeurASP/mario_vanilla/asp/show.lp',\n",
    "        }"
   ],
   "metadata": {
    "collapsed": false,
    "ExecuteTime": {
     "end_time": "2024-04-10T19:32:10.138081Z",
     "start_time": "2024-04-10T19:32:10.129765Z"
    }
   },
   "id": "28ec3195f950f9a6",
   "execution_count": 2
  },
  {
   "cell_type": "code",
   "outputs": [],
   "source": [
    "detector = Detector(config)\n",
    "positioner = Positioner(config)"
   ],
   "metadata": {
    "collapsed": false,
    "ExecuteTime": {
     "end_time": "2024-04-10T19:32:10.256032Z",
     "start_time": "2024-04-10T19:32:10.131747Z"
    }
   },
   "id": "825d6ac22c78e0aa",
   "execution_count": 3
  },
  {
   "cell_type": "code",
   "outputs": [],
   "source": [
    "img_path = '/Users/maximvandecasteele/PycharmProjects/NeurASP/tests/SuperMarioBros-1-1-v0img_SuperMarioBros-1-1-v0_2024-01-19-15_23_07.png'"
   ],
   "metadata": {
    "collapsed": false,
    "ExecuteTime": {
     "end_time": "2024-04-10T19:32:10.256547Z",
     "start_time": "2024-04-10T19:32:10.248752Z"
    }
   },
   "id": "8ab100c4fbfc7da7",
   "execution_count": 4
  },
  {
   "cell_type": "code",
   "outputs": [
    {
     "name": "stdout",
     "output_type": "stream",
     "text": [
      "test\n"
     ]
    }
   ],
   "source": [
    "positions = detector.detect(img_path)\n",
    "symbols = positioner.position(positions)\n",
    "print('test')"
   ],
   "metadata": {
    "collapsed": false,
    "ExecuteTime": {
     "end_time": "2024-04-10T19:38:01.486853Z",
     "start_time": "2024-04-10T19:36:17.608192Z"
    }
   },
   "id": "4106c456ff2566a0",
   "execution_count": 9
  },
  {
   "cell_type": "code",
   "outputs": [],
   "source": [
    "matrix = np.zeros((15,16), dtype=int)\n",
    "\n",
    "for cell in symbols:\n",
    "    row, col, val = map(int, cell.strip('cell().').split(','))\n",
    "    matrix[row, col] = val"
   ],
   "metadata": {
    "collapsed": false,
    "ExecuteTime": {
     "end_time": "2024-04-10T19:38:04.195554Z",
     "start_time": "2024-04-10T19:38:04.193055Z"
    }
   },
   "id": "d8ade526b5a7d0f6",
   "execution_count": 10
  },
  {
   "cell_type": "code",
   "outputs": [
    {
     "data": {
      "text/plain": "array([[0, 0, 0, 0, 0, 0, 0, 0, 0, 0, 0, 0, 0, 0, 0, 0],\n       [0, 0, 0, 0, 0, 0, 0, 0, 0, 0, 0, 0, 0, 0, 0, 0],\n       [0, 0, 0, 0, 0, 0, 0, 0, 0, 0, 0, 0, 0, 0, 0, 0],\n       [0, 0, 0, 0, 0, 0, 0, 0, 0, 0, 0, 0, 0, 0, 0, 0],\n       [0, 0, 0, 0, 0, 0, 0, 0, 0, 0, 0, 0, 0, 0, 0, 0],\n       [0, 0, 0, 0, 0, 0, 2, 2, 2, 0, 0, 0, 0, 2, 2, 2],\n       [0, 0, 0, 0, 0, 0, 0, 0, 0, 0, 0, 0, 0, 0, 0, 0],\n       [0, 0, 0, 0, 0, 0, 0, 0, 0, 0, 0, 0, 0, 0, 0, 0],\n       [0, 0, 0, 0, 0, 0, 0, 0, 0, 0, 0, 0, 0, 0, 0, 0],\n       [0, 0, 0, 2, 0, 0, 0, 0, 0, 0, 0, 0, 0, 0, 2, 2],\n       [0, 0, 0, 0, 0, 0, 0, 1, 0, 0, 0, 0, 0, 0, 0, 0],\n       [0, 0, 0, 0, 0, 0, 0, 0, 0, 0, 0, 0, 0, 0, 0, 0],\n       [0, 0, 0, 0, 0, 0, 0, 0, 3, 3, 0, 0, 0, 0, 3, 0],\n       [2, 2, 2, 2, 2, 2, 2, 2, 2, 2, 2, 2, 2, 2, 2, 2],\n       [0, 0, 0, 0, 0, 0, 0, 0, 0, 0, 0, 0, 0, 0, 0, 0]])"
     },
     "execution_count": 11,
     "metadata": {},
     "output_type": "execute_result"
    }
   ],
   "source": [
    "matrix"
   ],
   "metadata": {
    "collapsed": false,
    "ExecuteTime": {
     "end_time": "2024-04-10T19:38:04.421676Z",
     "start_time": "2024-04-10T19:38:04.418370Z"
    }
   },
   "id": "387e47fd68b6c2d6",
   "execution_count": 11
  },
  {
   "cell_type": "code",
   "outputs": [],
   "source": [
    "def one_hot_encode(matrix, num_classes):\n",
    "    # Flatten the matrix to a vector\n",
    "    flat_matrix = matrix.flatten()\n",
    "    \n",
    "    # Create a one-hot encoded matrix of zeros\n",
    "    one_hot_matrix = np.zeros((flat_matrix.size, num_classes))\n",
    "    \n",
    "    # Set the appropriate element to one\n",
    "    one_hot_matrix[np.arange(flat_matrix.size), flat_matrix] = 1\n",
    "    \n",
    "    # Reshape back to the original matrix shape with an added dimension for the one-hot encoding\n",
    "    one_hot_matrix = one_hot_matrix.reshape(num_classes, *matrix.shape)\n",
    "    \n",
    "    return one_hot_matrix"
   ],
   "metadata": {
    "collapsed": false,
    "ExecuteTime": {
     "end_time": "2024-04-10T21:13:07.053191Z",
     "start_time": "2024-04-10T21:13:07.048932Z"
    }
   },
   "id": "e6a9139f24a046ea",
   "execution_count": 18
  },
  {
   "cell_type": "markdown",
   "source": [],
   "metadata": {
    "collapsed": false
   },
   "id": "b3b842fd4bc1b1d8"
  },
  {
   "cell_type": "code",
   "outputs": [],
   "source": [
    "result = one_hot_encode(matrix, 7)"
   ],
   "metadata": {
    "collapsed": false,
    "ExecuteTime": {
     "end_time": "2024-04-10T21:13:10.171420Z",
     "start_time": "2024-04-10T21:13:10.167131Z"
    }
   },
   "id": "c7ff19423e761299",
   "execution_count": 19
  },
  {
   "cell_type": "code",
   "outputs": [
    {
     "data": {
      "text/plain": "array([[[          1,           0,           0, ...,           0,           1,           0],\n        [          0,           0,           0, ...,           0,           0,           0],\n        [          0,           0,           0, ...,           0,           0,           0],\n        ...,\n        [          0,           0,           0, ...,           0,           0,           0],\n        [          0,           0,           1, ...,           0,           0,           0],\n        [          1,           0,           0, ...,           0,           1,           0]],\n\n       [[          0,           0,           0, ...,           0,           0,           0],\n        [          0,           0,           0, ...,           0,           0,           0],\n        [          0,           1,           0, ...,           0,           0,           1],\n        ...,\n        [          0,           0,           1, ...,           0,           0,           0],\n        [          1,           0,           0, ...,           0,           1,           0],\n        [          0,           0,           0, ...,           0,           0,           0]],\n\n       [[          0,           0,           0, ...,           0,           0,           0],\n        [          0,           1,           0, ...,           0,           0,           1],\n        [          0,           0,           0, ...,           1,           0,           0],\n        ...,\n        [          1,           0,           0, ...,           0,           1,           0],\n        [          0,           0,           0, ...,           0,           0,           0],\n        [          0,           0,           0, ...,           0,           0,           0]],\n\n       ...,\n\n       [[          0,           0,           0, ...,           1,           0,           0],\n        [          0,           0,           0, ...,           0,           0,           0],\n        [          0,           0,           1, ...,           0,           0,           0],\n        ...,\n        [          0,           0,           0, ...,           0,           0,           0],\n        [          0,           0,           1, ...,           0,           0,           1],\n        [          0,           0,           0, ...,           1,           0,           0]],\n\n       [[          0,           0,           0, ...,           0,           0,           0],\n        [          0,           0,           1, ...,           0,           0,           0],\n        [          1,           0,           0, ...,           0,           1,           0],\n        ...,\n        [          0,           1,           0, ...,           0,           0,           0],\n        [          0,           0,           1, ...,           1,           0,           0],\n        [          0,           0,           0, ...,           0,           0,           0]],\n\n       [[          0,           0,           0, ...,           0,           0,           0],\n        [          0,           0,           1, ...,           0,           0,           0],\n        [          1,           0,           0, ...,           0,           1,           0],\n        ...,\n        [          0,           0,           0, ...,           1,           0,           0],\n        [          0,           0,           0, ...,           0,           0,           0],\n        [          0,           0,           1, ...,           0,           0,           0]]])"
     },
     "execution_count": 20,
     "metadata": {},
     "output_type": "execute_result"
    }
   ],
   "source": [
    "result"
   ],
   "metadata": {
    "collapsed": false,
    "ExecuteTime": {
     "end_time": "2024-04-10T21:13:11.379726Z",
     "start_time": "2024-04-10T21:13:11.373139Z"
    }
   },
   "id": "50dcf64d9beac688",
   "execution_count": 20
  },
  {
   "cell_type": "code",
   "outputs": [
    {
     "data": {
      "text/plain": "array([[          1,           0,           0,           0,           0,           0,           0,           1,           0,           0,           0,           0,           0,           0,           1,           0],\n       [          0,           0,           0,           0,           0,           1,           0,           0,           0,           0,           0,           0,           1,           0,           0,           0],\n       [          0,           0,           0,           1,           0,           0,           0,           0,           0,           0,           1,           0,           0,           0,           0,           0],\n       [          0,           1,           0,           0,           0,           0,           0,           0,           1,           0,           0,           0,           0,           0,           0,           1],\n       [          0,           0,           0,           0,           0,           0,           1,           0,           0,           0,           0,           0,           0,           1,           0,           0],\n       [          0,           0,           0,           0,           1,           0,           0,           0,           0,           0,           0,           1,           0,           0,           0,           0],\n       [          0,           0,           1,           0,           0,           0,           0,           0,           0,           1,           0,           0,           0,           0,           0,           0],\n       [          1,           0,           0,           0,           0,           0,           0,           1,           0,           0,           0,           0,           0,           0,           1,           0],\n       [          0,           0,           0,           0,           0,           1,           0,           0,           0,           0,           0,           0,           1,           0,           0,           0],\n       [          0,           0,           0,           1,           0,           0,           0,           0,           0,           0,           1,           0,           0,           0,           0,           0],\n       [          0,           1,           0,           0,           0,           0,           0,           0,           1,           0,           0,           0,           0,           0,           0,           1],\n       [          0,           0,           0,           0,           0,           0,           1,           0,           0,           0,           0,           0,           0,           1,           0,           0],\n       [          0,           0,           0,           0,           1,           0,           0,           0,           0,           0,           0,           1,           0,           0,           0,           0],\n       [          0,           0,           1,           0,           0,           0,           0,           0,           0,           1,           0,           0,           0,           0,           0,           0],\n       [          1,           0,           0,           0,           0,           0,           0,           1,           0,           0,           0,           0,           0,           0,           1,           0]])"
     },
     "execution_count": 21,
     "metadata": {},
     "output_type": "execute_result"
    }
   ],
   "source": [
    "result[0]"
   ],
   "metadata": {
    "collapsed": false,
    "ExecuteTime": {
     "end_time": "2024-04-10T21:13:13.492942Z",
     "start_time": "2024-04-10T21:13:13.490507Z"
    }
   },
   "id": "db76d837b70bbe7d",
   "execution_count": 21
  },
  {
   "cell_type": "code",
   "outputs": [
    {
     "name": "stdout",
     "output_type": "stream",
     "text": [
      "[[[1 0 0]\n",
      "  [0 0 1]\n",
      "  [0 1 0]]\n",
      "\n",
      " [[0 1 0]\n",
      "  [1 0 0]\n",
      "  [0 0 1]]\n",
      "\n",
      " [[0 0 1]\n",
      "  [0 1 0]\n",
      "  [1 0 0]]]\n"
     ]
    }
   ],
   "source": [
    "def one_hot_encode(matrix, num_classes):\n",
    "    # Get the height and width of the original matrix\n",
    "    height, width = matrix.shape\n",
    "    \n",
    "    # Initialize the one-hot encoded matrix with zeros\n",
    "    one_hot_matrix = np.zeros((num_classes, height, width), dtype=np.int32)\n",
    "    \n",
    "    # Iterate over the matrix and set the appropriate index to 1\n",
    "    for i in range(height):\n",
    "        for j in range(width):\n",
    "            class_index = matrix[i, j]\n",
    "            one_hot_matrix[class_index, i, j] = 1\n",
    "            \n",
    "    return one_hot_matrix\n",
    "\n",
    "# Example usage:\n",
    "matrix = np.array([\n",
    "    [0, 1, 2],\n",
    "    [1, 2, 0],\n",
    "    [2, 0, 1]\n",
    "])\n",
    "num_classes = 3\n",
    "\n",
    "# One-hot encode the example matrix\n",
    "one_hot_encoded_matrix = one_hot_encode(matrix, num_classes)\n",
    "print(one_hot_encoded_matrix)"
   ],
   "metadata": {
    "collapsed": false,
    "ExecuteTime": {
     "end_time": "2024-04-10T21:17:25.962460Z",
     "start_time": "2024-04-10T21:17:25.958361Z"
    }
   },
   "id": "89bc2f9611a93d58",
   "execution_count": 22
  },
  {
   "cell_type": "code",
   "outputs": [
    {
     "data": {
      "text/plain": "array([[[1, 0, 0],\n        [0, 0, 1],\n        [0, 1, 0]],\n\n       [[0, 1, 0],\n        [1, 0, 0],\n        [0, 0, 1]],\n\n       [[0, 0, 1],\n        [0, 1, 0],\n        [1, 0, 0]]], dtype=int32)"
     },
     "execution_count": 23,
     "metadata": {},
     "output_type": "execute_result"
    }
   ],
   "source": [
    "one_hot_encoded_matrix"
   ],
   "metadata": {
    "collapsed": false,
    "ExecuteTime": {
     "end_time": "2024-04-10T21:17:33.519897Z",
     "start_time": "2024-04-10T21:17:33.515266Z"
    }
   },
   "id": "926ea6d759f1fe68",
   "execution_count": 23
  },
  {
   "cell_type": "code",
   "outputs": [
    {
     "data": {
      "text/plain": "array([[1, 0, 0],\n       [0, 0, 1],\n       [0, 1, 0]], dtype=int32)"
     },
     "execution_count": 24,
     "metadata": {},
     "output_type": "execute_result"
    }
   ],
   "source": [
    "one_hot_encoded_matrix[0]"
   ],
   "metadata": {
    "collapsed": false,
    "ExecuteTime": {
     "end_time": "2024-04-10T21:17:41.309359Z",
     "start_time": "2024-04-10T21:17:41.306842Z"
    }
   },
   "id": "645fd0de481e600",
   "execution_count": 24
  },
  {
   "cell_type": "code",
   "outputs": [],
   "source": [],
   "metadata": {
    "collapsed": false
   },
   "id": "1145d890d379eb7"
  }
 ],
 "metadata": {
  "kernelspec": {
   "display_name": "Python 3",
   "language": "python",
   "name": "python3"
  },
  "language_info": {
   "codemirror_mode": {
    "name": "ipython",
    "version": 2
   },
   "file_extension": ".py",
   "mimetype": "text/x-python",
   "name": "python",
   "nbconvert_exporter": "python",
   "pygments_lexer": "ipython2",
   "version": "2.7.6"
  }
 },
 "nbformat": 4,
 "nbformat_minor": 5
}
