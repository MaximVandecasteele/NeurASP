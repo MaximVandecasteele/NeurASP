{
 "cells": [
  {
   "cell_type": "code",
   "execution_count": 6,
   "id": "initial_id",
   "metadata": {
    "collapsed": true,
    "ExecuteTime": {
     "end_time": "2024-04-30T13:38:48.077692Z",
     "start_time": "2024-04-30T13:38:48.073513Z"
    }
   },
   "outputs": [],
   "source": [
    "from RL.symbolic_components.detector import Detector\n",
    "from RL.symbolic_components.positioner import Positioner\n",
    "import numpy as np\n",
    "import torch\n",
    "import pandas as pd\n",
    "import pickle\n",
    "import csv\n",
    "from sklearn.model_selection import train_test_split\n",
    "from tqdm import tqdm"
   ]
  },
  {
   "cell_type": "code",
   "outputs": [],
   "source": [
    "def csv_to_list(file_path):\n",
    "    data_list = []\n",
    "    with open(file_path, newline='') as csvfile:\n",
    "        csv_reader = csv.reader(csvfile)\n",
    "        for row in csv_reader:\n",
    "            data_list.append(row[0])\n",
    "    return data_list"
   ],
   "metadata": {
    "collapsed": false,
    "ExecuteTime": {
     "end_time": "2024-04-30T13:38:48.246882Z",
     "start_time": "2024-04-30T13:38:48.241064Z"
    }
   },
   "id": "6f428931e734489e",
   "execution_count": 7
  },
  {
   "cell_type": "code",
   "outputs": [],
   "source": [
    "with open('tensors1.pkl', 'rb') as f:\n",
    "    # Load the data from the pickle file\n",
    "    tensors1 = pickle.load(f)\n",
    "    tensors1 = [{'state': tensor} for tensor in tensors1]\n",
    "        \n"
   ],
   "metadata": {
    "collapsed": false,
    "ExecuteTime": {
     "end_time": "2024-04-30T13:38:48.444934Z",
     "start_time": "2024-04-30T13:38:48.391223Z"
    }
   },
   "id": "3c83e45c49aa2a42",
   "execution_count": 8
  },
  {
   "cell_type": "code",
   "outputs": [],
   "source": [
    "with open('tensors2.pkl', 'rb') as f:\n",
    "    # Load the data from the pickle file\n",
    "    tensors2 = pickle.load(f)\n",
    "    tensors2 = [{'state': tensor} for tensor in tensors2]"
   ],
   "metadata": {
    "collapsed": false,
    "ExecuteTime": {
     "end_time": "2024-04-30T13:38:48.645015Z",
     "start_time": "2024-04-30T13:38:48.598318Z"
    }
   },
   "id": "6e76fb4519b2e4a2",
   "execution_count": 9
  },
  {
   "cell_type": "code",
   "outputs": [],
   "source": [
    "with open('tensors3.pkl', 'rb') as f:\n",
    "    # Load the data from the pickle file\n",
    "    tensors3 = pickle.load(f)\n",
    "    tensors3 = [{'state': tensor} for tensor in tensors3]"
   ],
   "metadata": {
    "collapsed": false,
    "ExecuteTime": {
     "end_time": "2024-04-30T13:38:49.157572Z",
     "start_time": "2024-04-30T13:38:49.132565Z"
    }
   },
   "id": "1f5c5cb9cfd064c",
   "execution_count": 10
  },
  {
   "cell_type": "code",
   "outputs": [],
   "source": [
    "symbols1= csv_to_list('symbols1.csv')\n",
    "symbols2= csv_to_list('symbols2.csv')\n",
    "symbols3= csv_to_list('symbols3.csv')"
   ],
   "metadata": {
    "collapsed": false,
    "ExecuteTime": {
     "end_time": "2024-04-30T13:38:50.058750Z",
     "start_time": "2024-04-30T13:38:50.028617Z"
    }
   },
   "id": "93b73653f2f1e9ef",
   "execution_count": 11
  },
  {
   "cell_type": "code",
   "outputs": [],
   "source": [
    "tensors = tensors1 + tensors2 + tensors3\n",
    "symbols = symbols1 + symbols2 + symbols3"
   ],
   "metadata": {
    "collapsed": false,
    "ExecuteTime": {
     "end_time": "2024-04-30T13:38:51.590730Z",
     "start_time": "2024-04-30T13:38:51.588112Z"
    }
   },
   "id": "b187d55c8e92a79d",
   "execution_count": 12
  },
  {
   "cell_type": "code",
   "outputs": [],
   "source": [
    "test_size = 0.2\n",
    "random_state = 42\n",
    "\n",
    "symbols_train, symbols_test = train_test_split(symbols, test_size=test_size, random_state=random_state)\n",
    "indices = np.arange(len(tensors))\n",
    "indices_train, indices_test = train_test_split(indices, test_size=test_size, random_state=random_state)\n",
    "tensors_train = [tensors[i] for i in indices_train]\n",
    "tensors_test = [tensors[i] for i in indices_test]"
   ],
   "metadata": {
    "collapsed": false,
    "ExecuteTime": {
     "end_time": "2024-04-30T13:38:59.586413Z",
     "start_time": "2024-04-30T13:38:59.578075Z"
    }
   },
   "id": "9b684790d7afd361",
   "execution_count": 13
  },
  {
   "cell_type": "code",
   "outputs": [],
   "source": [],
   "metadata": {
    "collapsed": false,
    "ExecuteTime": {
     "end_time": "2024-04-30T13:38:59.852408Z",
     "start_time": "2024-04-30T13:38:59.848757Z"
    }
   },
   "id": "7a73a5da02d22cce",
   "execution_count": 13
  },
  {
   "cell_type": "code",
   "outputs": [],
   "source": [
    "with open('/Users/maximvandecasteele/PycharmProjects/NeurASP/Object_detector/data_neurasp/symbols_train.pkl.pkl', 'wb') as f:\n",
    "    pickle.dump(symbols_train, f)\n",
    "\n",
    "with open('/Users/maximvandecasteele/PycharmProjects/NeurASP/Object_detector/data_neurasp/symbols_test.pkl', 'wb') as f:\n",
    "    pickle.dump(symbols_test, f)\n",
    "\n",
    "with open('/Users/maximvandecasteele/PycharmProjects/NeurASP/Object_detector/data_neurasp/tensors_train.pkl', 'wb') as f:\n",
    "    pickle.dump(tensors_train, f)\n",
    "\n",
    "with open('/Users/maximvandecasteele/PycharmProjects/NeurASP/Object_detector/data_neurasp/tensors_test.pkl', 'wb') as f:\n",
    "    pickle.dump(tensors_test, f)"
   ],
   "metadata": {
    "collapsed": false,
    "ExecuteTime": {
     "end_time": "2024-04-30T13:39:00.583068Z",
     "start_time": "2024-04-30T13:39:00.181507Z"
    }
   },
   "id": "ae507353d1310f76",
   "execution_count": 14
  },
  {
   "cell_type": "code",
   "outputs": [],
   "source": [],
   "metadata": {
    "collapsed": false
   },
   "id": "8d2658ac5c2374c8"
  }
 ],
 "metadata": {
  "kernelspec": {
   "display_name": "Python 3",
   "language": "python",
   "name": "python3"
  },
  "language_info": {
   "codemirror_mode": {
    "name": "ipython",
    "version": 2
   },
   "file_extension": ".py",
   "mimetype": "text/x-python",
   "name": "python",
   "nbconvert_exporter": "python",
   "pygments_lexer": "ipython2",
   "version": "2.7.6"
  }
 },
 "nbformat": 4,
 "nbformat_minor": 5
}
