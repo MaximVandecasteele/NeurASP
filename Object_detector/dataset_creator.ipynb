{
 "cells": [
  {
   "cell_type": "code",
   "execution_count": 29,
   "id": "initial_id",
   "metadata": {
    "collapsed": true,
    "ExecuteTime": {
     "end_time": "2024-05-09T13:27:34.354536Z",
     "start_time": "2024-05-09T13:27:34.350551Z"
    }
   },
   "outputs": [],
   "source": [
    "from RL.symbolic_components.detector import Detector\n",
    "from RL.symbolic_components.positioner import Positioner\n",
    "import numpy as np\n",
    "import torch\n",
    "import pandas as pd\n",
    "import pickle\n",
    "import csv\n",
    "from sklearn.model_selection import train_test_split\n",
    "from RL.symbolic_components.action_decider import ActionDecider\n",
    "from tqdm import tqdm"
   ]
  },
  {
   "cell_type": "code",
   "outputs": [],
   "source": [
    "def csv_to_list(file_path):\n",
    "    data_list = []\n",
    "    with open(file_path, newline='') as csvfile:\n",
    "        csv_reader = csv.reader(csvfile)\n",
    "        for row in csv_reader:\n",
    "            data_list.append(row[0])\n",
    "    return data_list"
   ],
   "metadata": {
    "collapsed": false,
    "ExecuteTime": {
     "end_time": "2024-05-09T13:27:35.020432Z",
     "start_time": "2024-05-09T13:27:35.017598Z"
    }
   },
   "id": "6f428931e734489e",
   "execution_count": 30
  },
  {
   "cell_type": "code",
   "outputs": [],
   "source": [
    "with open('tensors1.pkl', 'rb') as f:\n",
    "    # Load the data from the pickle file\n",
    "    tensors1 = pickle.load(f)\n",
    "    tensors1 = [{'state': tensor[5].reshape((1,15,16))} for tensor in tensors1]\n",
    "        \n"
   ],
   "metadata": {
    "collapsed": false,
    "ExecuteTime": {
     "end_time": "2024-05-09T13:41:44.070417Z",
     "start_time": "2024-05-09T13:41:44.010439Z"
    }
   },
   "id": "3c83e45c49aa2a42",
   "execution_count": 59
  },
  {
   "cell_type": "code",
   "outputs": [],
   "source": [
    "with open('tensors2.pkl', 'rb') as f:\n",
    "    # Load the data from the pickle file\n",
    "    tensors2 = pickle.load(f)\n",
    "    tensors2 = [{'state': tensor[5].reshape((1,15,16))} for tensor in tensors2]"
   ],
   "metadata": {
    "collapsed": false,
    "ExecuteTime": {
     "end_time": "2024-05-09T13:41:44.391283Z",
     "start_time": "2024-05-09T13:41:44.343019Z"
    }
   },
   "id": "6e76fb4519b2e4a2",
   "execution_count": 60
  },
  {
   "cell_type": "code",
   "outputs": [],
   "source": [
    "with open('tensors3.pkl', 'rb') as f:\n",
    "    # Load the data from the pickle file\n",
    "    tensors3 = pickle.load(f)\n",
    "    tensors3 = [{'state': tensor[5].reshape((1,15,16))} for tensor in tensors3]"
   ],
   "metadata": {
    "collapsed": false,
    "ExecuteTime": {
     "end_time": "2024-05-09T13:41:45.354101Z",
     "start_time": "2024-05-09T13:41:45.253959Z"
    }
   },
   "id": "1f5c5cb9cfd064c",
   "execution_count": 61
  },
  {
   "cell_type": "code",
   "outputs": [],
   "source": [
    "with open('tensors4.pkl', 'rb') as f:\n",
    "    # Load the data from the pickle file\n",
    "    tensors4 = pickle.load(f)\n",
    "    tensors4 = [{'state': tensor[5].reshape((1,15,16))} for tensor in tensors4]"
   ],
   "metadata": {
    "collapsed": false,
    "ExecuteTime": {
     "end_time": "2024-05-09T13:41:45.669176Z",
     "start_time": "2024-05-09T13:41:45.627464Z"
    }
   },
   "id": "5c19d10b34bb97fa",
   "execution_count": 62
  },
  {
   "cell_type": "code",
   "outputs": [],
   "source": [
    "with open('tensors5.pkl', 'rb') as f:\n",
    "    # Load the data from the pickle file\n",
    "    tensors5 = pickle.load(f)\n",
    "    tensors5 = [{'state': tensor[5].reshape((1,15,16))} for tensor in tensors5]"
   ],
   "metadata": {
    "collapsed": false,
    "ExecuteTime": {
     "end_time": "2024-05-09T13:41:46.414635Z",
     "start_time": "2024-05-09T13:41:46.349888Z"
    }
   },
   "id": "b315c500e94801ce",
   "execution_count": 63
  },
  {
   "cell_type": "code",
   "outputs": [],
   "source": [
    "with open('tensors6.pkl', 'rb') as f:\n",
    "    # Load the data from the pickle file\n",
    "    tensors6 = pickle.load(f)\n",
    "    tensors6 = [{'state': tensor} for tensor in tensors6]"
   ],
   "metadata": {
    "collapsed": false,
    "ExecuteTime": {
     "end_time": "2024-05-09T07:35:33.133053Z",
     "start_time": "2024-05-09T07:35:33.070317Z"
    }
   },
   "id": "65ff42ee57fa1393",
   "execution_count": 8
  },
  {
   "cell_type": "code",
   "outputs": [],
   "source": [
    "symbols1= csv_to_list('symbols1.csv')\n",
    "symbols2= csv_to_list('symbols2.csv')\n",
    "symbols3= csv_to_list('symbols3.csv')\n",
    "symbols4= csv_to_list('symbols4.csv')\n",
    "symbols5= csv_to_list('symbols5.csv')\n",
    "symbols6= csv_to_list('symbols6.csv')\n"
   ],
   "metadata": {
    "collapsed": false,
    "ExecuteTime": {
     "end_time": "2024-05-09T13:41:49.956612Z",
     "start_time": "2024-05-09T13:41:49.903388Z"
    }
   },
   "id": "93b73653f2f1e9ef",
   "execution_count": 64
  },
  {
   "cell_type": "code",
   "outputs": [],
   "source": [
    "tensors = tensors1 + tensors2 + tensors3\n",
    "symbols = symbols1 + symbols2 + symbols3"
   ],
   "metadata": {
    "collapsed": false,
    "ExecuteTime": {
     "end_time": "2024-04-30T23:11:58.811818Z",
     "start_time": "2024-04-30T23:11:58.804944Z"
    }
   },
   "id": "b187d55c8e92a79d",
   "execution_count": 36
  },
  {
   "cell_type": "code",
   "outputs": [],
   "source": [
    "test_size = 0.2\n",
    "random_state = 42\n",
    "\n",
    "symbols_train, symbols_test = train_test_split(symbols, test_size=test_size, random_state=random_state)\n",
    "indices = np.arange(len(tensors))\n",
    "indices_train, indices_test = train_test_split(indices, test_size=test_size, random_state=random_state)\n",
    "tensors_train = [tensors[i] for i in indices_train]\n",
    "tensors_test = [tensors[i] for i in indices_test]"
   ],
   "metadata": {
    "collapsed": false,
    "ExecuteTime": {
     "end_time": "2024-04-30T23:13:17.445556Z",
     "start_time": "2024-04-30T23:13:17.430927Z"
    }
   },
   "id": "9b684790d7afd361",
   "execution_count": 37
  },
  {
   "cell_type": "code",
   "outputs": [],
   "source": [
    "with open('/Users/maximvandecasteele/PycharmProjects/NeurASP/Object_detector/data_neurasp/symbols_train.pkl', 'wb') as f:\n",
    "    pickle.dump(symbols_train, f)\n",
    "\n",
    "with open('/Users/maximvandecasteele/PycharmProjects/NeurASP/Object_detector/data_neurasp/symbols_test.pkl', 'wb') as f:\n",
    "    pickle.dump(symbols_test, f)\n",
    "\n",
    "with open('/Users/maximvandecasteele/PycharmProjects/NeurASP/Object_detector/data_neurasp/tensors_train.pkl', 'wb') as f:\n",
    "    pickle.dump(tensors_train, f)\n",
    "\n",
    "with open('/Users/maximvandecasteele/PycharmProjects/NeurASP/Object_detector/data_neurasp/tensors_test.pkl', 'wb') as f:\n",
    "    pickle.dump(tensors_test, f)"
   ],
   "metadata": {
    "collapsed": false,
    "ExecuteTime": {
     "end_time": "2024-04-30T14:55:10.060472Z",
     "start_time": "2024-04-30T14:55:09.756075Z"
    }
   },
   "id": "ae507353d1310f76",
   "execution_count": 9
  },
  {
   "cell_type": "code",
   "outputs": [],
   "source": [
    "if torch.backends.mps.is_available():\n",
    "    config = {\n",
    "            \"detector_model_path\": '/Users/maximvandecasteele/PycharmProjects/NeurASP/Object_detector/models/YOLOv8-Mario-lvl1-3/weights/best.pt',\n",
    "            \"detector_label_path\": '/Users/maximvandecasteele/PycharmProjects/NeurASP/Object_detector/models/data.yaml',\n",
    "            \"positions_asp\": '/Users/maximvandecasteele/PycharmProjects/NeurASP/RL/asp/positions.lp',\n",
    "            \"constraints\": '/Users/maximvandecasteele/PycharmProjects/NeurASP/RL/asp/game_rules_balanced.lp',\n",
    "            \"show_asp\": '/Users/maximvandecasteele/PycharmProjects/NeurASP/RL/asp/show.lp',\n",
    "            \"show_constraints\": '/Users/maximvandecasteele/PycharmProjects/NeurASP/RL/asp/show_constraints.lp'\n",
    "        }\n",
    "elif torch.cuda.is_available():\n",
    "    config = {\n",
    "            \"detector_model_path\": '/home/stefaan/local/python/NeurASP/Object_detector/models/YOLOv8-Mario-lvl1-3/weights/best.pt',\n",
    "            \"detector_label_path\": '/home/stefaan/local/python/NeurASP/Object_detector/models/data.yaml',\n",
    "            \"positions_asp\": '/home/stefaan/local/python/NeurASP/RL/asp/positions.lp',\n",
    "            \"show_asp\": '/home/stefaan/local/python/NeurASP/RL/asp/show.lp',\n",
    "            \"constraints\": '/home/stefaan/local/python/NeurASP/RL/asp/game_rules.lp',\n",
    "            \"show_constraints\": '/home/stefaan/local/python/NeurASP/RL/asp/show_constraints.lp'\n",
    "        }"
   ],
   "metadata": {
    "collapsed": false,
    "ExecuteTime": {
     "end_time": "2024-05-09T13:41:54.921506Z",
     "start_time": "2024-05-09T13:41:54.917392Z"
    }
   },
   "id": "669c30cf0751d1b0",
   "execution_count": 65
  },
  {
   "cell_type": "code",
   "outputs": [],
   "source": [
    "decider = ActionDecider(config)\n",
    "symbols_test_final = []\n",
    "for facts in symbols_test:\n",
    "    result = decider.decide(facts)\n",
    "    symbols_test_final.append(result)\n",
    "\n",
    "with open('/Users/maximvandecasteele/PycharmProjects/NeurASP/Object_detector/data_neurasp/symbols_test_SM.pkl', 'wb') as f:\n",
    "    pickle.dump(symbols_test_final, f)"
   ],
   "metadata": {
    "collapsed": false,
    "ExecuteTime": {
     "end_time": "2024-04-30T15:56:37.248891Z",
     "start_time": "2024-04-30T15:56:36.532095Z"
    }
   },
   "id": "d0fd4127480dadef",
   "execution_count": 14
  },
  {
   "cell_type": "code",
   "outputs": [],
   "source": [
    "decider = ActionDecider(config)\n",
    "symbols_test_final = []\n",
    "for facts in symbols_train:\n",
    "    result = decider.decide(facts)\n",
    "    symbols_test_final.append(result)\n",
    "\n",
    "with open('/Users/maximvandecasteele/PycharmProjects/NeurASP/Object_detector/data_neurasp/symbols_train_SM.pkl', 'wb') as f:\n",
    "    pickle.dump(symbols_test_final, f)"
   ],
   "metadata": {
    "collapsed": false,
    "ExecuteTime": {
     "end_time": "2024-04-30T18:29:09.208230Z",
     "start_time": "2024-04-30T18:29:06.706681Z"
    }
   },
   "id": "adaa59718f2daf6",
   "execution_count": 16
  },
  {
   "cell_type": "code",
   "outputs": [],
   "source": [],
   "metadata": {
    "collapsed": false
   },
   "id": "f6ae2e2a980b6845"
  },
  {
   "cell_type": "code",
   "outputs": [],
   "source": [],
   "metadata": {
    "collapsed": false
   },
   "id": "f4bbef49fc107fd4"
  },
  {
   "cell_type": "code",
   "outputs": [
    {
     "data": {
      "text/plain": "2817"
     },
     "execution_count": 15,
     "metadata": {},
     "output_type": "execute_result"
    }
   ],
   "source": [
    "len(symbols6)"
   ],
   "metadata": {
    "collapsed": false,
    "ExecuteTime": {
     "end_time": "2024-05-09T07:38:43.680871Z",
     "start_time": "2024-05-09T07:38:43.670021Z"
    }
   },
   "id": "ca93720f503c1b1e",
   "execution_count": 15
  },
  {
   "cell_type": "markdown",
   "source": [
    "# dataset neurasp creation"
   ],
   "metadata": {
    "collapsed": false
   },
   "id": "64ca79ee282d48fc"
  },
  {
   "cell_type": "code",
   "outputs": [],
   "source": [
    "decider = ActionDecider(config)\n",
    "symbols_test_final = []\n",
    "for facts in symbols1:\n",
    "    result = decider.decide(facts)\n",
    "    symbols_test_final.append(result)"
   ],
   "metadata": {
    "collapsed": false,
    "ExecuteTime": {
     "end_time": "2024-05-09T13:29:33.093369Z",
     "start_time": "2024-05-09T13:29:32.188587Z"
    }
   },
   "id": "88ebc746deff1958",
   "execution_count": 42
  },
  {
   "cell_type": "code",
   "outputs": [],
   "source": [
    "decider = ActionDecider(config)\n",
    "\n",
    "tensors_walk = []\n",
    "symbols_walk = []\n",
    "symbols_walk_SM = []\n",
    "\n",
    "tensors_jump = []\n",
    "symbols_jump = []\n",
    "symbols_jump_SM = []\n",
    "\n",
    "list_of_tensor_lists = [tensors1,tensors2,tensors3,tensors4,tensors5]\n",
    "list_of_symbol_lists = [symbols1,symbols2,symbols3,symbols4,symbols5]\n",
    "\n",
    "for m in range(len(list_of_tensor_lists)):\n",
    "    for i in range(len(list_of_tensor_lists[m])):\n",
    "        result = decider.decide(list_of_symbol_lists[m][i])\n",
    "        if result[0] == 1:\n",
    "            tensors_walk.append(list_of_tensor_lists[m][i])\n",
    "            symbols_walk.append(list_of_symbol_lists[m][i])\n",
    "            symbols_walk_SM.append(result)\n",
    "        elif result[0] == 2:\n",
    "            tensors_jump.append(list_of_tensor_lists[m][i])\n",
    "            symbols_jump.append(list_of_symbol_lists[m][i])\n",
    "            symbols_jump_SM.append(result)       \n",
    "        "
   ],
   "metadata": {
    "collapsed": false,
    "ExecuteTime": {
     "end_time": "2024-05-09T13:42:01.442243Z",
     "start_time": "2024-05-09T13:41:57.684459Z"
    }
   },
   "id": "d5abd1ebb78bb68d",
   "execution_count": 66
  },
  {
   "cell_type": "code",
   "outputs": [
    {
     "data": {
      "text/plain": "(4277, 5938)"
     },
     "execution_count": 67,
     "metadata": {},
     "output_type": "execute_result"
    }
   ],
   "source": [
    "len(tensors_walk),len(symbols_jump)"
   ],
   "metadata": {
    "collapsed": false,
    "ExecuteTime": {
     "end_time": "2024-05-09T13:42:05.934911Z",
     "start_time": "2024-05-09T13:42:05.924207Z"
    }
   },
   "id": "93187cdf569265f7",
   "execution_count": 67
  },
  {
   "cell_type": "code",
   "outputs": [],
   "source": [
    "tensors_jumpf = tensors_jump[:4277]\n",
    "symbols_jumpf = symbols_jump[:4277]\n",
    "symbols_jumpf_SM = symbols_jump_SM[:4277]"
   ],
   "metadata": {
    "collapsed": false,
    "ExecuteTime": {
     "end_time": "2024-05-09T13:42:07.916979Z",
     "start_time": "2024-05-09T13:42:07.907078Z"
    }
   },
   "id": "13d257b7566084dc",
   "execution_count": 68
  },
  {
   "cell_type": "code",
   "outputs": [],
   "source": [],
   "metadata": {
    "collapsed": false,
    "ExecuteTime": {
     "end_time": "2024-05-09T13:42:08.751582Z",
     "start_time": "2024-05-09T13:42:08.744709Z"
    }
   },
   "id": "6a65ecea03c26a8e",
   "execution_count": 68
  },
  {
   "cell_type": "code",
   "outputs": [],
   "source": [
    "test_size = 0.2\n",
    "random_state = 42\n",
    "\n",
    "tensors_jump_train, tensors_jump_test = train_test_split(tensors_jumpf, test_size=test_size, random_state=random_state)\n",
    "indices = np.arange(len(tensors_jumpf))\n",
    "indices_train, indices_test = train_test_split(indices, test_size=test_size, random_state=random_state)\n",
    "symbols_jump_train = [symbols_jumpf[i] for i in indices_train]\n",
    "symbols_jump_test = [symbols_jumpf[i] for i in indices_test]\n",
    "symbols_jump_SM_train = [symbols_jumpf_SM[i] for i in indices_train]\n",
    "symbols_jump_SM_test = [symbols_jumpf_SM[i] for i in indices_test]"
   ],
   "metadata": {
    "collapsed": false,
    "ExecuteTime": {
     "end_time": "2024-05-09T13:42:12.652873Z",
     "start_time": "2024-05-09T13:42:12.651646Z"
    }
   },
   "id": "54b9b1c37159489b",
   "execution_count": 69
  },
  {
   "cell_type": "code",
   "outputs": [],
   "source": [],
   "metadata": {
    "collapsed": false
   },
   "id": "5bb9127209d659cb"
  },
  {
   "cell_type": "code",
   "outputs": [],
   "source": [],
   "metadata": {
    "collapsed": false
   },
   "id": "3a6701367f8bdf61"
  },
  {
   "cell_type": "code",
   "outputs": [],
   "source": [
    "test_size = 0.2\n",
    "random_state = 42\n",
    "\n",
    "tensors_walk_train, tensors_walk_test = train_test_split(tensors_walk, test_size=test_size, random_state=random_state)\n",
    "indices = np.arange(len(tensors_walk))\n",
    "indices_train, indices_test = train_test_split(indices, test_size=test_size, random_state=random_state)\n",
    "symbols_walk_train = [symbols_walk[i] for i in indices_train]\n",
    "symbols_walk_test = [symbols_walk[i] for i in indices_test]\n",
    "symbols_walk_SM_train = [symbols_walk_SM[i] for i in indices_train]\n",
    "symbols_walk_SM_test = [symbols_walk_SM[i] for i in indices_test]"
   ],
   "metadata": {
    "collapsed": false,
    "ExecuteTime": {
     "end_time": "2024-05-09T13:42:14.596397Z",
     "start_time": "2024-05-09T13:42:14.590133Z"
    }
   },
   "id": "aea8bafca683bfc",
   "execution_count": 70
  },
  {
   "cell_type": "code",
   "outputs": [],
   "source": [
    "test_size = 0.2\n",
    "random_state = 42\n",
    "\n",
    "tensors_jump_train, tensors_jump_test = train_test_split(tensors_jump, test_size=test_size, random_state=random_state)\n",
    "indices = np.arange(len(tensors_jump))\n",
    "indices_train, indices_test = train_test_split(indices, test_size=test_size, random_state=random_state)\n",
    "symbols_jump_train = [symbols_jump[i] for i in indices_train]\n",
    "symbols_jump_test = [symbols_jump[i] for i in indices_test]\n",
    "symbols_jump_SM_train = [symbols_jump_SM[i] for i in indices_train]\n",
    "symbols_jump_SM_test = [symbols_jump_SM[i] for i in indices_test]"
   ],
   "metadata": {
    "collapsed": false,
    "ExecuteTime": {
     "end_time": "2024-05-09T07:41:53.057254Z",
     "start_time": "2024-05-09T07:41:53.048249Z"
    }
   },
   "id": "15dbfd1fefbcdf1e",
   "execution_count": 20
  },
  {
   "cell_type": "code",
   "outputs": [],
   "source": [
    "tensors_train = tensors_jump_train + tensors_walk_train\n",
    "tensors_test = tensors_jump_test + tensors_walk_test\n",
    "\n",
    "symbols_train = symbols_jump_train + symbols_walk_train\n",
    "symbols_test = symbols_jump_test + symbols_walk_test\n",
    "\n",
    "symbols_sm_train = symbols_jump_SM_train + symbols_walk_SM_train\n",
    "symbols_sm_test = symbols_jump_SM_test + symbols_walk_SM_test"
   ],
   "metadata": {
    "collapsed": false,
    "ExecuteTime": {
     "end_time": "2024-05-09T13:42:17.957227Z",
     "start_time": "2024-05-09T13:42:17.935556Z"
    }
   },
   "id": "d44987e9f02c5b25",
   "execution_count": 71
  },
  {
   "cell_type": "code",
   "outputs": [
    {
     "data": {
      "text/plain": "(6842, 6842, 6842)"
     },
     "execution_count": 72,
     "metadata": {},
     "output_type": "execute_result"
    }
   ],
   "source": [
    "len(tensors_train), len(symbols_sm_train), len(symbols_train)"
   ],
   "metadata": {
    "collapsed": false,
    "ExecuteTime": {
     "end_time": "2024-05-09T13:42:18.194169Z",
     "start_time": "2024-05-09T13:42:18.190182Z"
    }
   },
   "id": "f992f83764479516",
   "execution_count": 72
  },
  {
   "cell_type": "code",
   "outputs": [],
   "source": [
    "import random"
   ],
   "metadata": {
    "collapsed": false,
    "ExecuteTime": {
     "end_time": "2024-05-09T13:42:20.483325Z",
     "start_time": "2024-05-09T13:42:20.480143Z"
    }
   },
   "id": "8e123ee2dc4f8475",
   "execution_count": 73
  },
  {
   "cell_type": "code",
   "outputs": [],
   "source": [
    "combined_lists = list(zip(tensors_train, symbols_train, symbols_sm_train))\n",
    "\n",
    "# Shuffle the indices\n",
    "random.shuffle(combined_lists)\n",
    "\n",
    "# Unzip the shuffled tuples back into separate lists\n",
    "shuffled_list1, shuffled_list2, shuffled_list3 = zip(*combined_lists)\n",
    "\n",
    "# Convert back to lists if needed\n",
    "tensors_train = list(shuffled_list1)\n",
    "symbols_train = list(shuffled_list2)\n",
    "symbols_sm_train = list(shuffled_list3)"
   ],
   "metadata": {
    "collapsed": false,
    "ExecuteTime": {
     "end_time": "2024-05-09T13:42:22.809897Z",
     "start_time": "2024-05-09T13:42:22.801722Z"
    }
   },
   "id": "82c106e8b8548e57",
   "execution_count": 74
  },
  {
   "cell_type": "code",
   "outputs": [],
   "source": [
    "with open('/Users/maximvandecasteele/PycharmProjects/NeurASP/Object_detector/data_neurasp/singleframeinput/tensors_train.pkl', 'wb') as f:\n",
    "    pickle.dump(tensors_train, f)\n",
    "    \n",
    "with open('/Users/maximvandecasteele/PycharmProjects/NeurASP/Object_detector/data_neurasp/singleframeinput/symbols_train.pkl', 'wb') as f:\n",
    "    pickle.dump(symbols_train, f)\n",
    "\n",
    "with open('/Users/maximvandecasteele/PycharmProjects/NeurASP/Object_detector/data_neurasp/singleframeinput/symbols_train_SM.pkl', 'wb') as f:\n",
    "    pickle.dump(symbols_sm_train, f)"
   ],
   "metadata": {
    "collapsed": false,
    "ExecuteTime": {
     "end_time": "2024-05-09T13:42:24.586635Z",
     "start_time": "2024-05-09T13:42:24.138932Z"
    }
   },
   "id": "152796614188fc7",
   "execution_count": 75
  },
  {
   "cell_type": "code",
   "outputs": [],
   "source": [
    "combined_lists = list(zip(tensors_test, symbols_test, symbols_sm_test))\n",
    "\n",
    "# Shuffle the indices\n",
    "random.shuffle(combined_lists)\n",
    "\n",
    "# Unzip the shuffled tuples back into separate lists\n",
    "shuffled_list1, shuffled_list2, shuffled_list3 = zip(*combined_lists)\n",
    "\n",
    "# Convert back to lists if needed\n",
    "tensors_test = list(shuffled_list1)\n",
    "symbols_test = list(shuffled_list2)\n",
    "symbols_sm_test = list(shuffled_list3)"
   ],
   "metadata": {
    "collapsed": false,
    "ExecuteTime": {
     "end_time": "2024-05-09T13:42:24.589958Z",
     "start_time": "2024-05-09T13:42:24.588458Z"
    }
   },
   "id": "611c8ae7f224ad99",
   "execution_count": 76
  },
  {
   "cell_type": "code",
   "outputs": [],
   "source": [
    "with open('/Users/maximvandecasteele/PycharmProjects/NeurASP/Object_detector/data_neurasp/singleframeinput/tensors_test.pkl', 'wb') as f:\n",
    "    pickle.dump(tensors_train, f)\n",
    "    \n",
    "with open('/Users/maximvandecasteele/PycharmProjects/NeurASP/Object_detector/data_neurasp/singleframeinput/symbols_test.pkl', 'wb') as f:\n",
    "    pickle.dump(symbols_train, f)\n",
    "\n",
    "with open('/Users/maximvandecasteele/PycharmProjects/NeurASP/Object_detector/data_neurasp/singleframeinput/symbols_test_SM.pkl', 'wb') as f:\n",
    "    pickle.dump(symbols_sm_train, f)"
   ],
   "metadata": {
    "collapsed": false,
    "ExecuteTime": {
     "end_time": "2024-05-09T13:42:25.611906Z",
     "start_time": "2024-05-09T13:42:25.043520Z"
    }
   },
   "id": "497ec82d8b7fbffa",
   "execution_count": 77
  },
  {
   "cell_type": "code",
   "outputs": [],
   "source": [],
   "metadata": {
    "collapsed": false
   },
   "id": "f3910231a78e7889"
  }
 ],
 "metadata": {
  "kernelspec": {
   "display_name": "Python 3",
   "language": "python",
   "name": "python3"
  },
  "language_info": {
   "codemirror_mode": {
    "name": "ipython",
    "version": 2
   },
   "file_extension": ".py",
   "mimetype": "text/x-python",
   "name": "python",
   "nbconvert_exporter": "python",
   "pygments_lexer": "ipython2",
   "version": "2.7.6"
  }
 },
 "nbformat": 4,
 "nbformat_minor": 5
}
