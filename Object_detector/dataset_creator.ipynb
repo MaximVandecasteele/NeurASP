{
 "cells": [
  {
   "cell_type": "code",
   "execution_count": 67,
   "id": "initial_id",
   "metadata": {
    "collapsed": true,
    "ExecuteTime": {
     "end_time": "2024-05-12T17:14:14.831124Z",
     "start_time": "2024-05-12T17:14:14.811130Z"
    }
   },
   "outputs": [],
   "source": [
    "from RL.symbolic_components.detector import Detector\n",
    "from RL.symbolic_components.positioner import Positioner\n",
    "import numpy as np\n",
    "import torch\n",
    "import pandas as pd\n",
    "import pickle\n",
    "import csv\n",
    "from sklearn.model_selection import train_test_split\n",
    "from RL.symbolic_components.action_decider import ActionDecider\n",
    "from Configuration.config import config\n",
    "from tqdm import tqdm"
   ]
  },
  {
   "cell_type": "code",
   "outputs": [],
   "source": [
    "def csv_to_list(file_path):\n",
    "    data_list = []\n",
    "    with open(file_path, newline='') as csvfile:\n",
    "        csv_reader = csv.reader(csvfile)\n",
    "        for row in csv_reader:\n",
    "            data_list.append(row[0])\n",
    "    return data_list"
   ],
   "metadata": {
    "collapsed": false,
    "ExecuteTime": {
     "end_time": "2024-05-12T17:14:15.001651Z",
     "start_time": "2024-05-12T17:14:14.995231Z"
    }
   },
   "id": "6f428931e734489e",
   "execution_count": 68
  },
  {
   "cell_type": "code",
   "outputs": [],
   "source": [
    "with open('tensors1.pkl', 'rb') as f:\n",
    "    # Load the data from the pickle file\n",
    "    tensors1 = pickle.load(f)\n",
    "    tensors1 = [{'state': tensor[5].reshape((1,15,16))} for tensor in tensors1]\n",
    "        \n"
   ],
   "metadata": {
    "collapsed": false,
    "ExecuteTime": {
     "end_time": "2024-05-12T17:22:00.546393Z",
     "start_time": "2024-05-12T17:22:00.482292Z"
    }
   },
   "id": "3c83e45c49aa2a42",
   "execution_count": 101
  },
  {
   "cell_type": "code",
   "outputs": [],
   "source": [
    "with open('tensors2.pkl', 'rb') as f:\n",
    "    # Load the data from the pickle file\n",
    "    tensors2 = pickle.load(f)\n",
    "    tensors2 = [{'state': tensor[5].reshape((1,15,16))} for tensor in tensors2]"
   ],
   "metadata": {
    "collapsed": false,
    "ExecuteTime": {
     "end_time": "2024-05-12T17:22:00.659065Z",
     "start_time": "2024-05-12T17:22:00.612257Z"
    }
   },
   "id": "6e76fb4519b2e4a2",
   "execution_count": 102
  },
  {
   "cell_type": "code",
   "outputs": [],
   "source": [
    "with open('tensors3.pkl', 'rb') as f:\n",
    "    # Load the data from the pickle file\n",
    "    tensors3 = pickle.load(f)\n",
    "    tensors3 = [{'state': tensor[5].reshape((1,15,16))} for tensor in tensors3]"
   ],
   "metadata": {
    "collapsed": false,
    "ExecuteTime": {
     "end_time": "2024-05-12T17:22:00.792069Z",
     "start_time": "2024-05-12T17:22:00.763143Z"
    }
   },
   "id": "1f5c5cb9cfd064c",
   "execution_count": 103
  },
  {
   "cell_type": "code",
   "outputs": [],
   "source": [
    "with open('tensors4.pkl', 'rb') as f:\n",
    "    # Load the data from the pickle file\n",
    "    tensors4 = pickle.load(f)\n",
    "    tensors4 = [{'state': tensor[5].reshape((1,15,16))} for tensor in tensors4]"
   ],
   "metadata": {
    "collapsed": false,
    "ExecuteTime": {
     "end_time": "2024-05-12T17:22:00.949976Z",
     "start_time": "2024-05-12T17:22:00.908068Z"
    }
   },
   "id": "5c19d10b34bb97fa",
   "execution_count": 104
  },
  {
   "cell_type": "code",
   "outputs": [],
   "source": [
    "with open('tensors5.pkl', 'rb') as f:\n",
    "    # Load the data from the pickle file\n",
    "    tensors5 = pickle.load(f)\n",
    "    tensors5 = [{'state': tensor[5].reshape((1,15,16))} for tensor in tensors5]"
   ],
   "metadata": {
    "collapsed": false,
    "ExecuteTime": {
     "end_time": "2024-05-12T17:22:01.512903Z",
     "start_time": "2024-05-12T17:22:01.452129Z"
    }
   },
   "id": "b315c500e94801ce",
   "execution_count": 105
  },
  {
   "cell_type": "code",
   "outputs": [],
   "source": [
    "with open('tensors6.pkl', 'rb') as f:\n",
    "    # Load the data from the pickle file\n",
    "    tensors6 = pickle.load(f)\n",
    "    tensors6 = [{'state': tensor} for tensor in tensors6]"
   ],
   "metadata": {
    "collapsed": false,
    "ExecuteTime": {
     "end_time": "2024-05-12T17:22:01.749519Z",
     "start_time": "2024-05-12T17:22:01.684131Z"
    }
   },
   "id": "65ff42ee57fa1393",
   "execution_count": 106
  },
  {
   "cell_type": "code",
   "outputs": [],
   "source": [
    "symbols1= csv_to_list('symbols1.csv')\n",
    "symbols2= csv_to_list('symbols2.csv')\n",
    "symbols3= csv_to_list('symbols3.csv')\n",
    "symbols4= csv_to_list('symbols4.csv')\n",
    "symbols5= csv_to_list('symbols5.csv')\n",
    "symbols6= csv_to_list('symbols6.csv')\n"
   ],
   "metadata": {
    "collapsed": false,
    "ExecuteTime": {
     "end_time": "2024-05-12T17:22:02.137371Z",
     "start_time": "2024-05-12T17:22:02.088558Z"
    }
   },
   "id": "93b73653f2f1e9ef",
   "execution_count": 107
  },
  {
   "cell_type": "code",
   "outputs": [],
   "source": [
    "tensors = tensors1 + tensors2 + tensors3 + tensors4 + tensors5\n",
    "symbols = symbols1 + symbols2 + symbols3 + symbols4 + symbols5"
   ],
   "metadata": {
    "collapsed": false,
    "ExecuteTime": {
     "end_time": "2024-05-12T17:22:03.124389Z",
     "start_time": "2024-05-12T17:22:03.117099Z"
    }
   },
   "id": "b187d55c8e92a79d",
   "execution_count": 108
  },
  {
   "cell_type": "code",
   "outputs": [],
   "source": [
    "test_size = 0.2\n",
    "random_state = 42\n",
    "\n",
    "symbols_train, symbols_test = train_test_split(symbols, test_size=test_size, random_state=random_state)\n",
    "indices = np.arange(len(tensors))\n",
    "indices_train, indices_test = train_test_split(indices, test_size=test_size, random_state=random_state)\n",
    "tensors_train = [tensors[i] for i in indices_train]\n",
    "tensors_test = [tensors[i] for i in indices_test]"
   ],
   "metadata": {
    "collapsed": false,
    "ExecuteTime": {
     "end_time": "2024-05-12T17:22:05.131084Z",
     "start_time": "2024-05-12T17:22:05.119778Z"
    }
   },
   "id": "9b684790d7afd361",
   "execution_count": 109
  },
  {
   "cell_type": "code",
   "outputs": [],
   "source": [
    "with open('/Users/maximvandecasteele/PycharmProjects/NeurASP/Object_detector/data_neurasp/symbols_train.pkl', 'wb') as f:\n",
    "    pickle.dump(symbols_train, f)\n",
    "\n",
    "with open('/Users/maximvandecasteele/PycharmProjects/NeurASP/Object_detector/data_neurasp/symbols_test.pkl', 'wb') as f:\n",
    "    pickle.dump(symbols_test, f)\n",
    "\n",
    "with open('/Users/maximvandecasteele/PycharmProjects/NeurASP/Object_detector/data_neurasp/tensors_train.pkl', 'wb') as f:\n",
    "    pickle.dump(tensors_train, f)\n",
    "\n",
    "with open('/Users/maximvandecasteele/PycharmProjects/NeurASP/Object_detector/data_neurasp/tensors_test.pkl', 'wb') as f:\n",
    "    pickle.dump(tensors_test, f)"
   ],
   "metadata": {
    "collapsed": false,
    "ExecuteTime": {
     "end_time": "2024-05-12T17:14:48.701354Z",
     "start_time": "2024-05-12T17:14:48.257727Z"
    }
   },
   "id": "ae507353d1310f76",
   "execution_count": 78
  },
  {
   "cell_type": "code",
   "outputs": [],
   "source": [
    "decider = ActionDecider(config)\n",
    "symbols_test_final = []\n",
    "for facts in symbols_test:\n",
    "    result = decider.decide(facts)\n",
    "    symbols_test_final.append(result)\n",
    "\n",
    "with open('/Users/maximvandecasteele/PycharmProjects/NeurASP/Object_detector/data_neurasp/symbols_test_SM.pkl', 'wb') as f:\n",
    "    pickle.dump(symbols_test_final, f)"
   ],
   "metadata": {
    "collapsed": false,
    "ExecuteTime": {
     "end_time": "2024-05-12T17:09:39.259902Z",
     "start_time": "2024-05-12T17:09:38.829422Z"
    }
   },
   "id": "d0fd4127480dadef",
   "execution_count": 44
  },
  {
   "cell_type": "code",
   "outputs": [],
   "source": [
    "decider = ActionDecider(config)\n",
    "symbols_test_final = []\n",
    "for facts in symbols_train:\n",
    "    result = decider.decide(facts)\n",
    "    symbols_test_final.append(result)\n",
    "\n",
    "# with open('/Users/maximvandecasteele/PycharmProjects/NeurASP/Object_detector/data_neurasp/symbols_train_SM.pkl', 'wb') as f:\n",
    "#     pickle.dump(symbols_test_final, f)"
   ],
   "metadata": {
    "collapsed": false,
    "ExecuteTime": {
     "end_time": "2024-05-12T17:22:39.303761Z",
     "start_time": "2024-05-12T17:22:36.200630Z"
    }
   },
   "id": "adaa59718f2daf6",
   "execution_count": 111
  },
  {
   "cell_type": "markdown",
   "source": [
    "# dataset neurasp creation"
   ],
   "metadata": {
    "collapsed": false
   },
   "id": "64ca79ee282d48fc"
  },
  {
   "cell_type": "code",
   "outputs": [],
   "source": [
    "decider = ActionDecider(config)\n",
    "symbols_test_final = []\n",
    "for facts in symbols1:\n",
    "    result = decider.decide(facts)\n",
    "    symbols_test_final.append(result)"
   ],
   "metadata": {
    "collapsed": false,
    "ExecuteTime": {
     "end_time": "2024-05-12T17:10:20.903352Z",
     "start_time": "2024-05-12T17:10:20.054770Z"
    }
   },
   "id": "88ebc746deff1958",
   "execution_count": 47
  },
  {
   "cell_type": "code",
   "outputs": [],
   "source": [
    "decider = ActionDecider(config)\n",
    "\n",
    "tensors_walk = []\n",
    "symbols_walk = []\n",
    "symbols_walk_SM = []\n",
    "\n",
    "tensors_jump = []\n",
    "symbols_jump = []\n",
    "symbols_jump_SM = []\n",
    "\n",
    "list_of_tensor_lists = [tensors1,tensors2,tensors3,tensors4,tensors5]\n",
    "list_of_symbol_lists = [symbols1,symbols2,symbols3,symbols4,symbols5]\n",
    "\n",
    "for m in range(len(list_of_tensor_lists)):\n",
    "    for i in range(len(list_of_tensor_lists[m])):\n",
    "        result = decider.decide(list_of_symbol_lists[m][i])\n",
    "        if result[0] == 1:\n",
    "            tensors_walk.append(list_of_tensor_lists[m][i])\n",
    "            symbols_walk.append(list_of_symbol_lists[m][i])\n",
    "            symbols_walk_SM.append(result)\n",
    "        elif result[0] == 2:\n",
    "            tensors_jump.append(list_of_tensor_lists[m][i])\n",
    "            symbols_jump.append(list_of_symbol_lists[m][i])\n",
    "            symbols_jump_SM.append(result)       \n",
    "        "
   ],
   "metadata": {
    "collapsed": false,
    "ExecuteTime": {
     "end_time": "2024-05-12T17:22:47.968700Z",
     "start_time": "2024-05-12T17:22:43.987496Z"
    }
   },
   "id": "d5abd1ebb78bb68d",
   "execution_count": 112
  },
  {
   "cell_type": "code",
   "outputs": [
    {
     "data": {
      "text/plain": "(4277, 5938)"
     },
     "execution_count": 113,
     "metadata": {},
     "output_type": "execute_result"
    }
   ],
   "source": [
    "len(tensors_walk),len(symbols_jump)"
   ],
   "metadata": {
    "collapsed": false,
    "ExecuteTime": {
     "end_time": "2024-05-12T17:22:48.736848Z",
     "start_time": "2024-05-12T17:22:48.728441Z"
    }
   },
   "id": "93187cdf569265f7",
   "execution_count": 113
  },
  {
   "cell_type": "code",
   "outputs": [],
   "source": [
    "tensors_jumpf = tensors_jump[:4277]\n",
    "symbols_jumpf = symbols_jump[:4277]\n",
    "symbols_jumpf_SM = symbols_jump_SM[:4277]"
   ],
   "metadata": {
    "collapsed": false,
    "ExecuteTime": {
     "end_time": "2024-05-12T17:22:51.432582Z",
     "start_time": "2024-05-12T17:22:51.417402Z"
    }
   },
   "id": "13d257b7566084dc",
   "execution_count": 114
  },
  {
   "cell_type": "code",
   "outputs": [],
   "source": [],
   "metadata": {
    "collapsed": false,
    "ExecuteTime": {
     "end_time": "2024-05-12T17:22:52.414020Z",
     "start_time": "2024-05-12T17:22:52.397251Z"
    }
   },
   "id": "6a65ecea03c26a8e",
   "execution_count": 114
  },
  {
   "cell_type": "code",
   "outputs": [],
   "source": [
    "test_size = 0.2\n",
    "random_state = 42\n",
    "\n",
    "tensors_jump_train, tensors_jump_test = train_test_split(tensors_jumpf, test_size=test_size, random_state=random_state)\n",
    "indices = np.arange(len(tensors_jumpf))\n",
    "indices_train, indices_test = train_test_split(indices, test_size=test_size, random_state=random_state)\n",
    "symbols_jump_train = [symbols_jumpf[i] for i in indices_train]\n",
    "symbols_jump_test = [symbols_jumpf[i] for i in indices_test]\n",
    "symbols_jump_SM_train = [symbols_jumpf_SM[i] for i in indices_train]\n",
    "symbols_jump_SM_test = [symbols_jumpf_SM[i] for i in indices_test]"
   ],
   "metadata": {
    "collapsed": false,
    "ExecuteTime": {
     "end_time": "2024-05-12T17:22:57.367258Z",
     "start_time": "2024-05-12T17:22:57.346710Z"
    }
   },
   "id": "54b9b1c37159489b",
   "execution_count": 115
  },
  {
   "cell_type": "code",
   "outputs": [],
   "source": [],
   "metadata": {
    "collapsed": false,
    "ExecuteTime": {
     "end_time": "2024-05-12T17:22:57.799216Z",
     "start_time": "2024-05-12T17:22:57.796112Z"
    }
   },
   "id": "5bb9127209d659cb",
   "execution_count": 115
  },
  {
   "cell_type": "code",
   "outputs": [],
   "source": [],
   "metadata": {
    "collapsed": false,
    "ExecuteTime": {
     "end_time": "2024-05-12T17:22:58.146612Z",
     "start_time": "2024-05-12T17:22:58.138519Z"
    }
   },
   "id": "3a6701367f8bdf61",
   "execution_count": 115
  },
  {
   "cell_type": "code",
   "outputs": [],
   "source": [
    "test_size = 0.2\n",
    "random_state = 42\n",
    "\n",
    "tensors_walk_train, tensors_walk_test = train_test_split(tensors_walk, test_size=test_size, random_state=random_state)\n",
    "indices = np.arange(len(tensors_walk))\n",
    "indices_train, indices_test = train_test_split(indices, test_size=test_size, random_state=random_state)\n",
    "symbols_walk_train = [symbols_walk[i] for i in indices_train]\n",
    "symbols_walk_test = [symbols_walk[i] for i in indices_test]\n",
    "symbols_walk_SM_train = [symbols_walk_SM[i] for i in indices_train]\n",
    "symbols_walk_SM_test = [symbols_walk_SM[i] for i in indices_test]"
   ],
   "metadata": {
    "collapsed": false,
    "ExecuteTime": {
     "end_time": "2024-05-12T17:22:58.419758Z",
     "start_time": "2024-05-12T17:22:58.391009Z"
    }
   },
   "id": "aea8bafca683bfc",
   "execution_count": 116
  },
  {
   "cell_type": "code",
   "outputs": [],
   "source": [
    "test_size = 0.2\n",
    "random_state = 42\n",
    "\n",
    "tensors_jump_train, tensors_jump_test = train_test_split(tensors_jump, test_size=test_size, random_state=random_state)\n",
    "indices = np.arange(len(tensors_jump))\n",
    "indices_train, indices_test = train_test_split(indices, test_size=test_size, random_state=random_state)\n",
    "symbols_jump_train = [symbols_jump[i] for i in indices_train]\n",
    "symbols_jump_test = [symbols_jump[i] for i in indices_test]\n",
    "symbols_jump_SM_train = [symbols_jump_SM[i] for i in indices_train]\n",
    "symbols_jump_SM_test = [symbols_jump_SM[i] for i in indices_test]"
   ],
   "metadata": {
    "collapsed": false,
    "ExecuteTime": {
     "end_time": "2024-05-12T17:22:58.876606Z",
     "start_time": "2024-05-12T17:22:58.872841Z"
    }
   },
   "id": "15dbfd1fefbcdf1e",
   "execution_count": 117
  },
  {
   "cell_type": "code",
   "outputs": [],
   "source": [
    "tensors_train = tensors_jump_train + tensors_walk_train\n",
    "tensors_test = tensors_jump_test + tensors_walk_test\n",
    "\n",
    "symbols_train = symbols_jump_train + symbols_walk_train\n",
    "symbols_test = symbols_jump_test + symbols_walk_test\n",
    "\n",
    "symbols_sm_train = symbols_jump_SM_train + symbols_walk_SM_train\n",
    "symbols_sm_test = symbols_jump_SM_test + symbols_walk_SM_test"
   ],
   "metadata": {
    "collapsed": false,
    "ExecuteTime": {
     "end_time": "2024-05-12T17:22:59.298462Z",
     "start_time": "2024-05-12T17:22:59.292851Z"
    }
   },
   "id": "d44987e9f02c5b25",
   "execution_count": 118
  },
  {
   "cell_type": "code",
   "outputs": [
    {
     "data": {
      "text/plain": "(2044, 8171, 8171)"
     },
     "execution_count": 120,
     "metadata": {},
     "output_type": "execute_result"
    }
   ],
   "source": [
    "len(tensors_test), len(symbols_sm_train), len(symbols_train)"
   ],
   "metadata": {
    "collapsed": false,
    "ExecuteTime": {
     "end_time": "2024-05-12T17:23:12.974469Z",
     "start_time": "2024-05-12T17:23:12.958482Z"
    }
   },
   "id": "f992f83764479516",
   "execution_count": 120
  },
  {
   "cell_type": "code",
   "outputs": [],
   "source": [
    "import random"
   ],
   "metadata": {
    "collapsed": false,
    "ExecuteTime": {
     "end_time": "2024-05-12T17:15:30.458027Z",
     "start_time": "2024-05-12T17:15:30.452513Z"
    }
   },
   "id": "8e123ee2dc4f8475",
   "execution_count": 88
  },
  {
   "cell_type": "code",
   "outputs": [],
   "source": [
    "combined_lists = list(zip(tensors_train, symbols_train, symbols_sm_train))\n",
    "\n",
    "# Shuffle the indices\n",
    "random.shuffle(combined_lists)\n",
    "\n",
    "# Unzip the shuffled tuples back into separate lists\n",
    "shuffled_list1, shuffled_list2, shuffled_list3 = zip(*combined_lists)\n",
    "\n",
    "# Convert back to lists if needed\n",
    "tensors_train = list(shuffled_list1)\n",
    "symbols_train = list(shuffled_list2)\n",
    "symbols_sm_train = list(shuffled_list3)"
   ],
   "metadata": {
    "collapsed": false,
    "ExecuteTime": {
     "end_time": "2024-05-12T17:15:30.795983Z",
     "start_time": "2024-05-12T17:15:30.779092Z"
    }
   },
   "id": "82c106e8b8548e57",
   "execution_count": 89
  },
  {
   "cell_type": "code",
   "outputs": [],
   "source": [
    "with open('/Users/maximvandecasteele/PycharmProjects/NeurASP/Object_detector/data_neurasp/singleframeinput/tensors_train.pkl', 'wb') as f:\n",
    "    pickle.dump(tensors_train, f)\n",
    "    \n",
    "with open('/Users/maximvandecasteele/PycharmProjects/NeurASP/Object_detector/data_neurasp/singleframeinput/symbols_train.pkl', 'wb') as f:\n",
    "    pickle.dump(symbols_train, f)\n",
    "\n",
    "with open('/Users/maximvandecasteele/PycharmProjects/NeurASP/Object_detector/data_neurasp/singleframeinput/symbols_train_SM.pkl', 'wb') as f:\n",
    "    pickle.dump(symbols_sm_train, f)"
   ],
   "metadata": {
    "collapsed": false,
    "ExecuteTime": {
     "end_time": "2024-05-12T17:15:42.975843Z",
     "start_time": "2024-05-12T17:15:42.397340Z"
    }
   },
   "id": "152796614188fc7",
   "execution_count": 90
  },
  {
   "cell_type": "code",
   "outputs": [],
   "source": [
    "combined_lists = list(zip(tensors_test, symbols_test, symbols_sm_test))\n",
    "\n",
    "# Shuffle the indices\n",
    "random.shuffle(combined_lists)\n",
    "\n",
    "# Unzip the shuffled tuples back into separate lists\n",
    "shuffled_list1, shuffled_list2, shuffled_list3 = zip(*combined_lists)\n",
    "\n",
    "# Convert back to lists if needed\n",
    "tensors_test = list(shuffled_list1)\n",
    "symbols_test = list(shuffled_list2)\n",
    "symbols_sm_test = list(shuffled_list3)"
   ],
   "metadata": {
    "collapsed": false,
    "ExecuteTime": {
     "end_time": "2024-05-12T17:15:42.981158Z",
     "start_time": "2024-05-12T17:15:42.977689Z"
    }
   },
   "id": "611c8ae7f224ad99",
   "execution_count": 91
  },
  {
   "cell_type": "code",
   "outputs": [],
   "source": [
    "with open('/Users/maximvandecasteele/PycharmProjects/NeurASP/Object_detector/data_neurasp/singleframeinput/tensors_test.pkl', 'wb') as f:\n",
    "    pickle.dump(tensors_train, f)\n",
    "    \n",
    "with open('/Users/maximvandecasteele/PycharmProjects/NeurASP/Object_detector/data_neurasp/singleframeinput/symbols_test.pkl', 'wb') as f:\n",
    "    pickle.dump(symbols_train, f)\n",
    "\n",
    "with open('/Users/maximvandecasteele/PycharmProjects/NeurASP/Object_detector/data_neurasp/singleframeinput/symbols_test_SM.pkl', 'wb') as f:\n",
    "    pickle.dump(symbols_sm_train, f)"
   ],
   "metadata": {
    "collapsed": false,
    "ExecuteTime": {
     "end_time": "2024-05-12T17:15:46.011965Z",
     "start_time": "2024-05-12T17:15:45.293498Z"
    }
   },
   "id": "497ec82d8b7fbffa",
   "execution_count": 92
  },
  {
   "cell_type": "code",
   "outputs": [],
   "source": [],
   "metadata": {
    "collapsed": false
   },
   "id": "f3910231a78e7889"
  },
  {
   "cell_type": "code",
   "outputs": [],
   "source": [],
   "metadata": {
    "collapsed": false
   },
   "id": "ce13c4624c2ae682"
  },
  {
   "cell_type": "code",
   "outputs": [],
   "source": [],
   "metadata": {
    "collapsed": false
   },
   "id": "cec9fffd91498164"
  },
  {
   "cell_type": "code",
   "outputs": [],
   "source": [],
   "metadata": {
    "collapsed": false
   },
   "id": "28aecb498ca64777"
  },
  {
   "cell_type": "code",
   "outputs": [],
   "source": [
    "with open('/Users/maximvandecasteele/PycharmProjects/NeurASP/Object_detector/data_neurasp/augmented_dataset/symbols_test.pkl', 'rb') as f:\n",
    "    # Load the data from the pickle file\n",
    "    tensors_naive = pickle.load(f)\n",
    "\n",
    "        \n"
   ],
   "metadata": {
    "collapsed": false
   },
   "id": "95c48d8093209f72",
   "execution_count": 99
  },
  {
   "cell_type": "code",
   "outputs": [
    {
     "data": {
      "text/plain": "10425"
     },
     "execution_count": 100,
     "metadata": {},
     "output_type": "execute_result"
    }
   ],
   "source": [
    "len(tensors_naive)"
   ],
   "metadata": {
    "collapsed": false
   },
   "id": "e2dc96511b60c00f",
   "execution_count": 100
  },
  {
   "cell_type": "code",
   "outputs": [],
   "source": [
    "symbols_naive = csv_to_list('symbols_naive.csv')\n",
    "\n"
   ],
   "metadata": {
    "collapsed": false,
    "ExecuteTime": {
     "end_time": "2024-05-12T14:49:09.043146Z",
     "start_time": "2024-05-12T14:49:09.030244Z"
    }
   },
   "id": "2c1bdd102ec227d2",
   "execution_count": 26
  },
  {
   "cell_type": "code",
   "outputs": [],
   "source": [],
   "metadata": {
    "collapsed": false,
    "ExecuteTime": {
     "end_time": "2024-05-12T14:49:09.270413Z",
     "start_time": "2024-05-12T14:49:09.264221Z"
    }
   },
   "id": "bfa757750b99223d",
   "execution_count": 26
  },
  {
   "cell_type": "code",
   "outputs": [],
   "source": [
    "test_size = 0.2\n",
    "random_state = 42\n",
    "\n",
    "symbols_train, symbols_test = train_test_split(symbols_naive, test_size=test_size, random_state=random_state)\n",
    "indices = np.arange(len(tensors_naive))\n",
    "indices_train, indices_test = train_test_split(indices, test_size=test_size, random_state=random_state)\n",
    "tensors_train = [tensors_naive[i] for i in indices_train]\n",
    "tensors_test = [tensors_naive[i] for i in indices_test]"
   ],
   "metadata": {
    "collapsed": false,
    "ExecuteTime": {
     "end_time": "2024-05-12T14:49:09.500427Z",
     "start_time": "2024-05-12T14:49:09.491853Z"
    }
   },
   "id": "c3ec21b9895b76f8",
   "execution_count": 27
  },
  {
   "cell_type": "code",
   "outputs": [],
   "source": [
    "with open('/Users/maximvandecasteele/PycharmProjects/NeurASP/Object_detector/data_neurasp/naive_dataset/symbols_train.pkl', 'wb') as f:\n",
    "    pickle.dump(symbols_train, f)\n",
    "\n",
    "with open('/Users/maximvandecasteele/PycharmProjects/NeurASP/Object_detector/data_neurasp/naive_dataset/symbols_test.pkl', 'wb') as f:\n",
    "    pickle.dump(symbols_test, f)\n",
    "\n",
    "with open('/Users/maximvandecasteele/PycharmProjects/NeurASP/Object_detector/data_neurasp/naive_dataset/tensors_train.pkl', 'wb') as f:\n",
    "    pickle.dump(tensors_train, f)\n",
    "\n",
    "with open('/Users/maximvandecasteele/PycharmProjects/NeurASP/Object_detector/data_neurasp/naive_dataset/tensors_test.pkl', 'wb') as f:\n",
    "    pickle.dump(tensors_test, f)"
   ],
   "metadata": {
    "collapsed": false,
    "ExecuteTime": {
     "end_time": "2024-05-12T14:49:09.920049Z",
     "start_time": "2024-05-12T14:49:09.737753Z"
    }
   },
   "id": "9dfbdcfd7230a0fa",
   "execution_count": 28
  },
  {
   "cell_type": "code",
   "outputs": [],
   "source": [
    "decider = ActionDecider(config)\n",
    "symbols_test_final = []\n",
    "for facts in symbols_test:\n",
    "    result = decider.decide(facts)\n",
    "    symbols_test_final.append(result)\n",
    "\n",
    "with open('/Users/maximvandecasteele/PycharmProjects/NeurASP/Object_detector/data_neurasp/naive_dataset/symbols_test_SM.pkl', 'wb') as f:\n",
    "    pickle.dump(symbols_test_final, f)"
   ],
   "metadata": {
    "collapsed": false,
    "ExecuteTime": {
     "end_time": "2024-05-12T14:49:10.323458Z",
     "start_time": "2024-05-12T14:49:10.006109Z"
    }
   },
   "id": "55ce1a0b4309540f",
   "execution_count": 29
  },
  {
   "cell_type": "code",
   "outputs": [],
   "source": [
    "decider = ActionDecider(config)\n",
    "symbols_test_final = []\n",
    "for facts in symbols_train:\n",
    "    result = decider.decide(facts)\n",
    "    symbols_test_final.append(result)\n",
    "\n",
    "with open('/Users/maximvandecasteele/PycharmProjects/NeurASP/Object_detector/data_neurasp/symbols_train_SM.pkl', 'wb') as f:\n",
    "    pickle.dump(symbols_test_final, f)"
   ],
   "metadata": {
    "collapsed": false,
    "ExecuteTime": {
     "end_time": "2024-05-12T14:49:11.671838Z",
     "start_time": "2024-05-12T14:49:10.324097Z"
    }
   },
   "id": "a4e952938db23d96",
   "execution_count": 30
  }
 ],
 "metadata": {
  "kernelspec": {
   "display_name": "Python 3",
   "language": "python",
   "name": "python3"
  },
  "language_info": {
   "codemirror_mode": {
    "name": "ipython",
    "version": 2
   },
   "file_extension": ".py",
   "mimetype": "text/x-python",
   "name": "python",
   "nbconvert_exporter": "python",
   "pygments_lexer": "ipython2",
   "version": "2.7.6"
  }
 },
 "nbformat": 4,
 "nbformat_minor": 5
}
