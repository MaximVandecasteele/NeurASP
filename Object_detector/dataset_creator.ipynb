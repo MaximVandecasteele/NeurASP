{
 "cells": [
  {
   "cell_type": "code",
   "execution_count": 255,
   "id": "initial_id",
   "metadata": {
    "collapsed": true,
    "ExecuteTime": {
     "end_time": "2024-05-06T18:22:14.039800Z",
     "start_time": "2024-05-06T18:22:14.036810Z"
    }
   },
   "outputs": [],
   "source": [
    "from RL.symbolic_components.detector import Detector\n",
    "from RL.symbolic_components.positioner import Positioner\n",
    "import numpy as np\n",
    "import torch\n",
    "import pandas as pd\n",
    "import pickle\n",
    "import csv\n",
    "from sklearn.model_selection import train_test_split\n",
    "from RL.symbolic_components.action_decider import ActionDecider\n",
    "from tqdm import tqdm"
   ]
  },
  {
   "cell_type": "code",
   "outputs": [],
   "source": [
    "def csv_to_list(file_path):\n",
    "    data_list = []\n",
    "    with open(file_path, newline='') as csvfile:\n",
    "        csv_reader = csv.reader(csvfile)\n",
    "        for row in csv_reader:\n",
    "            data_list.append(row[0])\n",
    "    return data_list"
   ],
   "metadata": {
    "collapsed": false,
    "ExecuteTime": {
     "end_time": "2024-05-06T18:32:36.469885Z",
     "start_time": "2024-05-06T18:32:36.466580Z"
    }
   },
   "id": "6f428931e734489e",
   "execution_count": 283
  },
  {
   "cell_type": "code",
   "outputs": [],
   "source": [
    "with open('tensors1.pkl', 'rb') as f:\n",
    "    # Load the data from the pickle file\n",
    "    tensors1 = pickle.load(f)\n",
    "    tensors1 = [{'state': tensor} for tensor in tensors1]\n",
    "        \n"
   ],
   "metadata": {
    "collapsed": false,
    "ExecuteTime": {
     "end_time": "2024-05-06T18:32:36.826999Z",
     "start_time": "2024-05-06T18:32:36.766730Z"
    }
   },
   "id": "3c83e45c49aa2a42",
   "execution_count": 284
  },
  {
   "cell_type": "code",
   "outputs": [],
   "source": [
    "with open('tensors2.pkl', 'rb') as f:\n",
    "    # Load the data from the pickle file\n",
    "    tensors2 = pickle.load(f)\n",
    "    tensors2 = [{'state': tensor} for tensor in tensors2]"
   ],
   "metadata": {
    "collapsed": false,
    "ExecuteTime": {
     "end_time": "2024-05-06T18:32:37.165634Z",
     "start_time": "2024-05-06T18:32:37.056777Z"
    }
   },
   "id": "6e76fb4519b2e4a2",
   "execution_count": 285
  },
  {
   "cell_type": "code",
   "outputs": [],
   "source": [
    "with open('tensors3.pkl', 'rb') as f:\n",
    "    # Load the data from the pickle file\n",
    "    tensors3 = pickle.load(f)\n",
    "    tensors3 = [{'state': tensor} for tensor in tensors3]"
   ],
   "metadata": {
    "collapsed": false,
    "ExecuteTime": {
     "end_time": "2024-05-06T18:32:37.385365Z",
     "start_time": "2024-05-06T18:32:37.354656Z"
    }
   },
   "id": "1f5c5cb9cfd064c",
   "execution_count": 286
  },
  {
   "cell_type": "code",
   "outputs": [],
   "source": [
    "with open('tensors4.pkl', 'rb') as f:\n",
    "    # Load the data from the pickle file\n",
    "    tensors4 = pickle.load(f)\n",
    "    tensors4 = [{'state': tensor} for tensor in tensors4]"
   ],
   "metadata": {
    "collapsed": false,
    "ExecuteTime": {
     "end_time": "2024-05-06T18:32:37.737525Z",
     "start_time": "2024-05-06T18:32:37.690655Z"
    }
   },
   "id": "5c19d10b34bb97fa",
   "execution_count": 287
  },
  {
   "cell_type": "code",
   "outputs": [],
   "source": [
    "with open('tensors5.pkl', 'rb') as f:\n",
    "    # Load the data from the pickle file\n",
    "    tensors5 = pickle.load(f)\n",
    "    tensors5 = [{'state': tensor} for tensor in tensors5]"
   ],
   "metadata": {
    "collapsed": false,
    "ExecuteTime": {
     "end_time": "2024-05-06T18:32:38.336363Z",
     "start_time": "2024-05-06T18:32:38.278306Z"
    }
   },
   "id": "b315c500e94801ce",
   "execution_count": 288
  },
  {
   "cell_type": "code",
   "outputs": [],
   "source": [
    "with open('tensors6.pkl', 'rb') as f:\n",
    "    # Load the data from the pickle file\n",
    "    tensors6 = pickle.load(f)\n",
    "    tensors6 = [{'state': tensor} for tensor in tensors6]"
   ],
   "metadata": {
    "collapsed": false,
    "ExecuteTime": {
     "end_time": "2024-05-06T18:22:16.840705Z",
     "start_time": "2024-05-06T18:22:16.838205Z"
    }
   },
   "id": "65ff42ee57fa1393",
   "execution_count": 262
  },
  {
   "cell_type": "code",
   "outputs": [],
   "source": [
    "symbols1= csv_to_list('symbols1.csv')\n",
    "symbols2= csv_to_list('symbols2.csv')\n",
    "symbols3= csv_to_list('symbols3.csv')\n",
    "symbols4= csv_to_list('symbols4.csv')\n",
    "symbols5= csv_to_list('symbols5.csv')\n"
   ],
   "metadata": {
    "collapsed": false,
    "ExecuteTime": {
     "end_time": "2024-05-06T18:32:40.803294Z",
     "start_time": "2024-05-06T18:32:40.769266Z"
    }
   },
   "id": "93b73653f2f1e9ef",
   "execution_count": 289
  },
  {
   "cell_type": "code",
   "outputs": [],
   "source": [
    "tensors = tensors1 + tensors2 + tensors3\n",
    "symbols = symbols1 + symbols2 + symbols3"
   ],
   "metadata": {
    "collapsed": false,
    "ExecuteTime": {
     "end_time": "2024-04-30T23:11:58.811818Z",
     "start_time": "2024-04-30T23:11:58.804944Z"
    }
   },
   "id": "b187d55c8e92a79d",
   "execution_count": 36
  },
  {
   "cell_type": "code",
   "outputs": [],
   "source": [
    "test_size = 0.2\n",
    "random_state = 42\n",
    "\n",
    "symbols_train, symbols_test = train_test_split(symbols, test_size=test_size, random_state=random_state)\n",
    "indices = np.arange(len(tensors))\n",
    "indices_train, indices_test = train_test_split(indices, test_size=test_size, random_state=random_state)\n",
    "tensors_train = [tensors[i] for i in indices_train]\n",
    "tensors_test = [tensors[i] for i in indices_test]"
   ],
   "metadata": {
    "collapsed": false,
    "ExecuteTime": {
     "end_time": "2024-04-30T23:13:17.445556Z",
     "start_time": "2024-04-30T23:13:17.430927Z"
    }
   },
   "id": "9b684790d7afd361",
   "execution_count": 37
  },
  {
   "cell_type": "code",
   "outputs": [],
   "source": [
    "with open('/Users/maximvandecasteele/PycharmProjects/NeurASP/Object_detector/data_neurasp/symbols_train.pkl', 'wb') as f:\n",
    "    pickle.dump(symbols_train, f)\n",
    "\n",
    "with open('/Users/maximvandecasteele/PycharmProjects/NeurASP/Object_detector/data_neurasp/symbols_test.pkl', 'wb') as f:\n",
    "    pickle.dump(symbols_test, f)\n",
    "\n",
    "with open('/Users/maximvandecasteele/PycharmProjects/NeurASP/Object_detector/data_neurasp/tensors_train.pkl', 'wb') as f:\n",
    "    pickle.dump(tensors_train, f)\n",
    "\n",
    "with open('/Users/maximvandecasteele/PycharmProjects/NeurASP/Object_detector/data_neurasp/tensors_test.pkl', 'wb') as f:\n",
    "    pickle.dump(tensors_test, f)"
   ],
   "metadata": {
    "collapsed": false,
    "ExecuteTime": {
     "end_time": "2024-04-30T14:55:10.060472Z",
     "start_time": "2024-04-30T14:55:09.756075Z"
    }
   },
   "id": "ae507353d1310f76",
   "execution_count": 9
  },
  {
   "cell_type": "code",
   "outputs": [],
   "source": [
    "if torch.backends.mps.is_available():\n",
    "    config = {\n",
    "            \"detector_model_path\": '/Users/maximvandecasteele/PycharmProjects/NeurASP/Object_detector/models/YOLOv8-Mario-lvl1-3/weights/best.pt',\n",
    "            \"detector_label_path\": '/Users/maximvandecasteele/PycharmProjects/NeurASP/Object_detector/models/data.yaml',\n",
    "            \"positions_asp\": '/Users/maximvandecasteele/PycharmProjects/NeurASP/RL/asp/positions.lp',\n",
    "            \"constraints\": '/Users/maximvandecasteele/PycharmProjects/NeurASP/RL/asp/game_rules_balanced.lp',\n",
    "            \"show_asp\": '/Users/maximvandecasteele/PycharmProjects/NeurASP/RL/asp/show.lp',\n",
    "            \"show_constraints\": '/Users/maximvandecasteele/PycharmProjects/NeurASP/RL/asp/show_constraints.lp'\n",
    "        }\n",
    "elif torch.cuda.is_available():\n",
    "    config = {\n",
    "            \"detector_model_path\": '/home/stefaan/local/python/NeurASP/Object_detector/models/YOLOv8-Mario-lvl1-3/weights/best.pt',\n",
    "            \"detector_label_path\": '/home/stefaan/local/python/NeurASP/Object_detector/models/data.yaml',\n",
    "            \"positions_asp\": '/home/stefaan/local/python/NeurASP/RL/asp/positions.lp',\n",
    "            \"show_asp\": '/home/stefaan/local/python/NeurASP/RL/asp/show.lp',\n",
    "            \"constraints\": '/home/stefaan/local/python/NeurASP/RL/asp/game_rules.lp',\n",
    "            \"show_constraints\": '/home/stefaan/local/python/NeurASP/RL/asp/show_constraints.lp'\n",
    "        }"
   ],
   "metadata": {
    "collapsed": false,
    "ExecuteTime": {
     "end_time": "2024-05-06T17:49:16.488818Z",
     "start_time": "2024-05-06T17:49:16.485836Z"
    }
   },
   "id": "669c30cf0751d1b0",
   "execution_count": 220
  },
  {
   "cell_type": "code",
   "outputs": [],
   "source": [
    "decider = ActionDecider(config)\n",
    "symbols_test_final = []\n",
    "for facts in symbols_test:\n",
    "    result = decider.decide(facts)\n",
    "    symbols_test_final.append(result)\n",
    "\n",
    "with open('/Users/maximvandecasteele/PycharmProjects/NeurASP/Object_detector/data_neurasp/symbols_test_SM.pkl', 'wb') as f:\n",
    "    pickle.dump(symbols_test_final, f)"
   ],
   "metadata": {
    "collapsed": false,
    "ExecuteTime": {
     "end_time": "2024-04-30T15:56:37.248891Z",
     "start_time": "2024-04-30T15:56:36.532095Z"
    }
   },
   "id": "d0fd4127480dadef",
   "execution_count": 14
  },
  {
   "cell_type": "code",
   "outputs": [],
   "source": [
    "decider = ActionDecider(config)\n",
    "symbols_test_final = []\n",
    "for facts in symbols_train:\n",
    "    result = decider.decide(facts)\n",
    "    symbols_test_final.append(result)\n",
    "\n",
    "with open('/Users/maximvandecasteele/PycharmProjects/NeurASP/Object_detector/data_neurasp/symbols_train_SM.pkl', 'wb') as f:\n",
    "    pickle.dump(symbols_test_final, f)"
   ],
   "metadata": {
    "collapsed": false,
    "ExecuteTime": {
     "end_time": "2024-04-30T18:29:09.208230Z",
     "start_time": "2024-04-30T18:29:06.706681Z"
    }
   },
   "id": "adaa59718f2daf6",
   "execution_count": 16
  },
  {
   "cell_type": "code",
   "outputs": [],
   "source": [],
   "metadata": {
    "collapsed": false
   },
   "id": "f6ae2e2a980b6845"
  },
  {
   "cell_type": "code",
   "outputs": [],
   "source": [],
   "metadata": {
    "collapsed": false
   },
   "id": "f4bbef49fc107fd4"
  },
  {
   "cell_type": "code",
   "outputs": [],
   "source": [
    "decider = ActionDecider(config)\n",
    "symbols_test_final = []\n",
    "for facts in symbols1:\n",
    "    result = decider.decide(facts)\n",
    "    symbols_test_final.append(result)"
   ],
   "metadata": {
    "collapsed": false,
    "ExecuteTime": {
     "end_time": "2024-05-06T16:59:43.625319Z",
     "start_time": "2024-05-06T16:59:42.776926Z"
    }
   },
   "id": "88ebc746deff1958",
   "execution_count": 196
  },
  {
   "cell_type": "code",
   "outputs": [],
   "source": [
    "decider = ActionDecider(config)\n",
    "\n",
    "tensors_walk = []\n",
    "symbols_walk = []\n",
    "symbols_walk_SM = []\n",
    "\n",
    "tensors_jump = []\n",
    "symbols_jump = []\n",
    "symbols_jump_SM = []\n",
    "\n",
    "list_of_tensor_lists = [tensors1,tensors2,tensors3,tensors4,tensors5]\n",
    "list_of_symbol_lists = [symbols1,symbols2,symbols3,symbols4,symbols5]\n",
    "\n",
    "for m in range(len(list_of_tensor_lists)):\n",
    "    for i in range(len(list_of_tensor_lists[m])):\n",
    "        result = decider.decide(list_of_symbol_lists[m][i])\n",
    "        if result[0] == 1:\n",
    "            tensors_walk.append(list_of_tensor_lists[m][i])\n",
    "            symbols_walk.append(list_of_symbol_lists[m][i])\n",
    "            symbols_walk_SM.append(result)\n",
    "        elif result[0] == 2:\n",
    "            tensors_jump.append(list_of_tensor_lists[m][i])\n",
    "            symbols_jump.append(list_of_symbol_lists[m][i])\n",
    "            symbols_jump_SM.append(result)       \n",
    "        "
   ],
   "metadata": {
    "collapsed": false,
    "ExecuteTime": {
     "end_time": "2024-05-06T18:34:52.766351Z",
     "start_time": "2024-05-06T18:34:48.834382Z"
    }
   },
   "id": "d5abd1ebb78bb68d",
   "execution_count": 297
  },
  {
   "cell_type": "code",
   "outputs": [
    {
     "data": {
      "text/plain": "(4277, 5938)"
     },
     "execution_count": 298,
     "metadata": {},
     "output_type": "execute_result"
    }
   ],
   "source": [
    "len(tensors_walk),len(symbols_jump)"
   ],
   "metadata": {
    "collapsed": false,
    "ExecuteTime": {
     "end_time": "2024-05-06T18:34:55.472894Z",
     "start_time": "2024-05-06T18:34:55.463634Z"
    }
   },
   "id": "93187cdf569265f7",
   "execution_count": 298
  },
  {
   "cell_type": "code",
   "outputs": [],
   "source": [
    "tensors_jumpf = tensors_jump[:4277]\n",
    "symbols_jumpf = symbols_jump[:4277]\n",
    "symbols_jumpf_SM = symbols_jump_SM[:4277]"
   ],
   "metadata": {
    "collapsed": false,
    "ExecuteTime": {
     "end_time": "2024-05-06T18:37:01.819828Z",
     "start_time": "2024-05-06T18:37:01.817190Z"
    }
   },
   "id": "13d257b7566084dc",
   "execution_count": 299
  },
  {
   "cell_type": "code",
   "outputs": [],
   "source": [],
   "metadata": {
    "collapsed": false
   },
   "id": "6a65ecea03c26a8e"
  },
  {
   "cell_type": "code",
   "outputs": [],
   "source": [
    "test_size = 0.2\n",
    "random_state = 42\n",
    "\n",
    "tensors_walk_train, tensors_walk_test = train_test_split(tensors_walk, test_size=test_size, random_state=random_state)\n",
    "indices = np.arange(len(tensors_walk))\n",
    "indices_train, indices_test = train_test_split(indices, test_size=test_size, random_state=random_state)\n",
    "symbols_walk_train = [symbols_walk[i] for i in indices_train]\n",
    "symbols_walk_test = [symbols_walk[i] for i in indices_test]\n",
    "symbols_walk_SM_train = [symbols_walk_SM[i] for i in indices_train]\n",
    "symbols_walk_SM_test = [symbols_walk_SM[i] for i in indices_test]"
   ],
   "metadata": {
    "collapsed": false,
    "ExecuteTime": {
     "end_time": "2024-05-06T18:44:07.169351Z",
     "start_time": "2024-05-06T18:44:07.164061Z"
    }
   },
   "id": "aea8bafca683bfc",
   "execution_count": 302
  },
  {
   "cell_type": "code",
   "outputs": [],
   "source": [
    "test_size = 0.2\n",
    "random_state = 42\n",
    "\n",
    "tensors_jump_train, tensors_jump_test = train_test_split(tensors_jumpf, test_size=test_size, random_state=random_state)\n",
    "indices = np.arange(len(tensors_jumpf))\n",
    "indices_train, indices_test = train_test_split(indices, test_size=test_size, random_state=random_state)\n",
    "symbols_jump_train = [symbols_jumpf[i] for i in indices_train]\n",
    "symbols_jump_test = [symbols_jumpf[i] for i in indices_test]\n",
    "symbols_jump_SM_train = [symbols_jumpf_SM[i] for i in indices_train]\n",
    "symbols_jump_SM_test = [symbols_jumpf_SM[i] for i in indices_test]"
   ],
   "metadata": {
    "collapsed": false,
    "ExecuteTime": {
     "end_time": "2024-05-06T18:48:00.591144Z",
     "start_time": "2024-05-06T18:48:00.583039Z"
    }
   },
   "id": "15dbfd1fefbcdf1e",
   "execution_count": 308
  },
  {
   "cell_type": "code",
   "outputs": [],
   "source": [
    "tensors_train = tensors_jump_train + tensors_walk_train\n",
    "tensors_test = tensors_jump_test + tensors_walk_test\n",
    "\n",
    "symbols_train = symbols_jump_train + symbols_walk_train\n",
    "symbols_test = symbols_jump_test + symbols_walk_test\n",
    "\n",
    "symbols_sm_train = symbols_jump_SM_train + symbols_walk_SM_train\n",
    "symbols_sm_test = symbols_jump_SM_test + symbols_walk_SM_test"
   ],
   "metadata": {
    "collapsed": false,
    "ExecuteTime": {
     "end_time": "2024-05-06T18:49:03.649425Z",
     "start_time": "2024-05-06T18:49:03.643900Z"
    }
   },
   "id": "d44987e9f02c5b25",
   "execution_count": 309
  },
  {
   "cell_type": "code",
   "outputs": [
    {
     "data": {
      "text/plain": "(6842, 6842, 6842)"
     },
     "execution_count": 310,
     "metadata": {},
     "output_type": "execute_result"
    }
   ],
   "source": [
    "len(tensors_train), len(symbols_sm_train), len(symbols_train)"
   ],
   "metadata": {
    "collapsed": false,
    "ExecuteTime": {
     "end_time": "2024-05-06T18:49:26.659583Z",
     "start_time": "2024-05-06T18:49:26.652456Z"
    }
   },
   "id": "f992f83764479516",
   "execution_count": 310
  },
  {
   "cell_type": "code",
   "outputs": [],
   "source": [
    "import random"
   ],
   "metadata": {
    "collapsed": false,
    "ExecuteTime": {
     "end_time": "2024-05-06T18:50:46.376933Z",
     "start_time": "2024-05-06T18:50:46.373496Z"
    }
   },
   "id": "8e123ee2dc4f8475",
   "execution_count": 311
  },
  {
   "cell_type": "code",
   "outputs": [],
   "source": [
    "combined_lists = list(zip(tensors_train, symbols_train, symbols_sm_train))\n",
    "\n",
    "# Shuffle the indices\n",
    "random.shuffle(combined_lists)\n",
    "\n",
    "# Unzip the shuffled tuples back into separate lists\n",
    "shuffled_list1, shuffled_list2, shuffled_list3 = zip(*combined_lists)\n",
    "\n",
    "# Convert back to lists if needed\n",
    "tensors_train = list(shuffled_list1)\n",
    "symbols_train = list(shuffled_list2)\n",
    "symbols_sm_train = list(shuffled_list3)"
   ],
   "metadata": {
    "collapsed": false,
    "ExecuteTime": {
     "end_time": "2024-05-06T18:51:32.957052Z",
     "start_time": "2024-05-06T18:51:32.949458Z"
    }
   },
   "id": "82c106e8b8548e57",
   "execution_count": 312
  },
  {
   "cell_type": "code",
   "outputs": [],
   "source": [
    "with open('/Users/maximvandecasteele/PycharmProjects/NeurASP/Object_detector/data_neurasp/tensors_train.pkl', 'wb') as f:\n",
    "    pickle.dump(tensors_train, f)\n",
    "    \n",
    "with open('/Users/maximvandecasteele/PycharmProjects/NeurASP/Object_detector/data_neurasp/symbols_train.pkl', 'wb') as f:\n",
    "    pickle.dump(symbols_train, f)\n",
    "\n",
    "with open('/Users/maximvandecasteele/PycharmProjects/NeurASP/Object_detector/data_neurasp/symbols_train_SM.pkl', 'wb') as f:\n",
    "    pickle.dump(symbols_sm_train, f)"
   ],
   "metadata": {
    "collapsed": false,
    "ExecuteTime": {
     "end_time": "2024-05-06T18:55:15.599331Z",
     "start_time": "2024-05-06T18:55:15.118773Z"
    }
   },
   "id": "152796614188fc7",
   "execution_count": 316
  },
  {
   "cell_type": "code",
   "outputs": [],
   "source": [
    "combined_lists = list(zip(tensors_test, symbols_test, symbols_sm_test))\n",
    "\n",
    "# Shuffle the indices\n",
    "random.shuffle(combined_lists)\n",
    "\n",
    "# Unzip the shuffled tuples back into separate lists\n",
    "shuffled_list1, shuffled_list2, shuffled_list3 = zip(*combined_lists)\n",
    "\n",
    "# Convert back to lists if needed\n",
    "tensors_test = list(shuffled_list1)\n",
    "symbols_test = list(shuffled_list2)\n",
    "symbols_sm_test = list(shuffled_list3)"
   ],
   "metadata": {
    "collapsed": false,
    "ExecuteTime": {
     "end_time": "2024-05-06T18:56:43.139219Z",
     "start_time": "2024-05-06T18:56:43.129078Z"
    }
   },
   "id": "611c8ae7f224ad99",
   "execution_count": 317
  },
  {
   "cell_type": "code",
   "outputs": [],
   "source": [
    "with open('/Users/maximvandecasteele/PycharmProjects/NeurASP/Object_detector/data_neurasp/tensors_test.pkl', 'wb') as f:\n",
    "    pickle.dump(tensors_train, f)\n",
    "    \n",
    "with open('/Users/maximvandecasteele/PycharmProjects/NeurASP/Object_detector/data_neurasp/symbols_test.pkl', 'wb') as f:\n",
    "    pickle.dump(symbols_train, f)\n",
    "\n",
    "with open('/Users/maximvandecasteele/PycharmProjects/NeurASP/Object_detector/data_neurasp/symbols_test_SM.pkl', 'wb') as f:\n",
    "    pickle.dump(symbols_sm_train, f)"
   ],
   "metadata": {
    "collapsed": false,
    "ExecuteTime": {
     "end_time": "2024-05-06T18:56:44.360916Z",
     "start_time": "2024-05-06T18:56:43.807409Z"
    }
   },
   "id": "497ec82d8b7fbffa",
   "execution_count": 318
  },
  {
   "cell_type": "code",
   "outputs": [],
   "source": [],
   "metadata": {
    "collapsed": false
   },
   "id": "f3910231a78e7889"
  }
 ],
 "metadata": {
  "kernelspec": {
   "display_name": "Python 3",
   "language": "python",
   "name": "python3"
  },
  "language_info": {
   "codemirror_mode": {
    "name": "ipython",
    "version": 2
   },
   "file_extension": ".py",
   "mimetype": "text/x-python",
   "name": "python",
   "nbconvert_exporter": "python",
   "pygments_lexer": "ipython2",
   "version": "2.7.6"
  }
 },
 "nbformat": 4,
 "nbformat_minor": 5
}
