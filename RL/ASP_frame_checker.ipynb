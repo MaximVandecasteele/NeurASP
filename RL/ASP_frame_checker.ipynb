{
 "cells": [
  {
   "cell_type": "code",
   "execution_count": 1,
   "id": "initial_id",
   "metadata": {
    "collapsed": true,
    "ExecuteTime": {
     "end_time": "2024-04-28T07:42:17.203483Z",
     "start_time": "2024-04-28T07:42:16.528709Z"
    }
   },
   "outputs": [],
   "source": [
    "from symbolic_components.detector import Detector\n",
    "from symbolic_components.positioner import Positioner\n",
    "import numpy as np\n",
    "import torch"
   ]
  },
  {
   "cell_type": "code",
   "outputs": [],
   "source": [
    "if torch.backends.mps.is_available():\n",
    "    config = {\n",
    "            \"detector_model_path\": '/Users/maximvandecasteele/PycharmProjects/NeurASP/Object_detector/models/YOLOv8-Mario-lvl1-3/weights/best.pt',\n",
    "            \"detector_label_path\": '/Users/maximvandecasteele/PycharmProjects/NeurASP/Object_detector/models/data.yaml',\n",
    "            \"positions_asp\": '/Users/maximvandecasteele/PycharmProjects/NeurASP/RL/asp/positions.lp',\n",
    "            \"show_asp\": '/Users/maximvandecasteele/PycharmProjects/NeurASP/RL/asp/show.lp',\n",
    "            \"constraints\": '/Users/maximvandecasteele/PycharmProjects/NeurASP/RL/asp/game_rules.lp',\n",
    "            \"show_actions\": '/Users/maximvandecasteele/PycharmProjects/NeurASP/RL/asp/show_constraints.lp'\n",
    "        }\n",
    "elif torch.cuda.is_available():\n",
    "    config = {\n",
    "            \"detector_model_path\": '/home/stefaan/local/python/NeurASP/Object_detector/models/YOLOv8-Mario-lvl1-3/weights/best.pt',\n",
    "            \"detector_label_path\": '/home/stefaan/local/python/NeurASP/Object_detector/models/data.yaml',\n",
    "            \"positions_asp\": '/home/stefaan/local/python/NeurASP/RL/asp/positions.lp',\n",
    "            \"show_asp\": '/home/stefaan/local/python/NeurASP/RL/asp/show.lp',\n",
    "            \"constraints\": '/home/stefaan/local/python/NeurASP/RL/asp/game_rules.lp',\n",
    "            \"show_actions\" : '/home/stefaan/local/python/NeurASP/RL/asp/show_constraints.lp',\n",
    "        }"
   ],
   "metadata": {
    "collapsed": false,
    "ExecuteTime": {
     "end_time": "2024-04-28T07:42:17.219943Z",
     "start_time": "2024-04-28T07:42:17.212201Z"
    }
   },
   "id": "28ec3195f950f9a6",
   "execution_count": 2
  },
  {
   "cell_type": "code",
   "outputs": [
    {
     "name": "stdout",
     "output_type": "stream",
     "text": [
      "Using mps device.\n"
     ]
    }
   ],
   "source": [
    "detector = Detector(config)\n",
    "positioner = Positioner(config)"
   ],
   "metadata": {
    "collapsed": false,
    "ExecuteTime": {
     "end_time": "2024-04-28T07:42:17.270496Z",
     "start_time": "2024-04-28T07:42:17.214809Z"
    }
   },
   "id": "825d6ac22c78e0aa",
   "execution_count": 3
  },
  {
   "cell_type": "code",
   "outputs": [],
   "source": [
    "img_path = '/Users/maximvandecasteele/PycharmProjects/NeurASP/Object_detector/bounding_box_frames/SuperMarioBros-1-1-v0img_SuperMarioBros-1-1-v0_2024-01-19-15_21_40.png'"
   ],
   "metadata": {
    "collapsed": false,
    "ExecuteTime": {
     "end_time": "2024-04-28T07:42:17.270891Z",
     "start_time": "2024-04-28T07:42:17.266880Z"
    }
   },
   "id": "8ab100c4fbfc7da7",
   "execution_count": 4
  },
  {
   "cell_type": "code",
   "outputs": [
    {
     "name": "stdout",
     "output_type": "stream",
     "text": [
      "test\n"
     ]
    }
   ],
   "source": [
    "positions = detector.detect(img_path)\n",
    "symbols = positioner.position(positions)\n",
    "print('test')"
   ],
   "metadata": {
    "collapsed": false,
    "ExecuteTime": {
     "end_time": "2024-04-28T07:42:19.037855Z",
     "start_time": "2024-04-28T07:42:17.270015Z"
    }
   },
   "id": "4106c456ff2566a0",
   "execution_count": 5
  },
  {
   "cell_type": "code",
   "outputs": [],
   "source": [
    "matrix = np.zeros((15,16), dtype=int)\n",
    "\n",
    "for cell in symbols:\n",
    "    row, col, val = map(int, cell.strip('cell().').split(','))\n",
    "    matrix[row, col] = val"
   ],
   "metadata": {
    "collapsed": false,
    "ExecuteTime": {
     "end_time": "2024-04-28T07:42:19.038606Z",
     "start_time": "2024-04-28T07:42:19.034681Z"
    }
   },
   "id": "d8ade526b5a7d0f6",
   "execution_count": 6
  },
  {
   "cell_type": "code",
   "outputs": [
    {
     "data": {
      "text/plain": "array([[0, 0, 0, 0, 0, 0, 0, 0, 0, 0, 0, 0, 0, 0, 0, 0],\n       [0, 0, 0, 0, 0, 0, 0, 0, 0, 0, 0, 0, 0, 0, 0, 0],\n       [0, 0, 0, 0, 0, 0, 0, 0, 0, 0, 0, 0, 0, 0, 0, 0],\n       [0, 0, 0, 0, 0, 0, 0, 0, 0, 0, 0, 0, 0, 0, 0, 0],\n       [0, 0, 0, 0, 0, 0, 0, 0, 0, 0, 0, 0, 0, 0, 0, 0],\n       [0, 0, 0, 0, 0, 0, 0, 1, 0, 0, 0, 0, 0, 0, 0, 0],\n       [0, 0, 0, 0, 0, 0, 0, 0, 0, 0, 0, 0, 0, 0, 0, 0],\n       [0, 0, 0, 0, 0, 0, 0, 0, 0, 0, 0, 0, 0, 0, 0, 0],\n       [0, 0, 0, 0, 0, 0, 0, 0, 0, 0, 0, 0, 0, 0, 0, 0],\n       [0, 0, 2, 0, 0, 2, 0, 0, 0, 0, 0, 0, 0, 0, 0, 0],\n       [0, 2, 6, 0, 0, 6, 2, 0, 0, 0, 0, 0, 0, 0, 0, 2],\n       [2, 0, 6, 0, 0, 6, 0, 2, 0, 0, 0, 0, 0, 0, 2, 6],\n       [6, 0, 6, 0, 0, 6, 0, 0, 2, 0, 0, 0, 0, 2, 0, 6],\n       [2, 2, 2, 2, 2, 2, 2, 2, 2, 2, 2, 2, 2, 2, 2, 2],\n       [0, 0, 0, 0, 0, 0, 0, 0, 0, 0, 0, 0, 0, 0, 0, 0]])"
     },
     "execution_count": 7,
     "metadata": {},
     "output_type": "execute_result"
    }
   ],
   "source": [
    "matrix"
   ],
   "metadata": {
    "collapsed": false,
    "ExecuteTime": {
     "end_time": "2024-04-28T07:42:19.043437Z",
     "start_time": "2024-04-28T07:42:19.038662Z"
    }
   },
   "id": "387e47fd68b6c2d6",
   "execution_count": 7
  },
  {
   "cell_type": "markdown",
   "source": [],
   "metadata": {
    "collapsed": false
   },
   "id": "b3b842fd4bc1b1d8"
  }
 ],
 "metadata": {
  "kernelspec": {
   "display_name": "Python 3",
   "language": "python",
   "name": "python3"
  },
  "language_info": {
   "codemirror_mode": {
    "name": "ipython",
    "version": 2
   },
   "file_extension": ".py",
   "mimetype": "text/x-python",
   "name": "python",
   "nbconvert_exporter": "python",
   "pygments_lexer": "ipython2",
   "version": "2.7.6"
  }
 },
 "nbformat": 4,
 "nbformat_minor": 5
}
