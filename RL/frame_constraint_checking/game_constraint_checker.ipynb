{
 "cells": [
  {
   "cell_type": "code",
   "execution_count": 1,
   "id": "initial_id",
   "metadata": {
    "collapsed": true,
    "ExecuteTime": {
     "end_time": "2024-04-28T07:20:48.579816Z",
     "start_time": "2024-04-28T07:20:47.604987Z"
    }
   },
   "outputs": [
    {
     "ename": "ModuleNotFoundError",
     "evalue": "No module named 'symbolic_components'",
     "output_type": "error",
     "traceback": [
      "\u001B[0;31m---------------------------------------------------------------------------\u001B[0m",
      "\u001B[0;31mModuleNotFoundError\u001B[0m                       Traceback (most recent call last)",
      "Cell \u001B[0;32mIn[1], line 5\u001B[0m\n\u001B[1;32m      3\u001B[0m \u001B[38;5;28;01mimport\u001B[39;00m \u001B[38;5;21;01mpandas\u001B[39;00m \u001B[38;5;28;01mas\u001B[39;00m \u001B[38;5;21;01mpd\u001B[39;00m\n\u001B[1;32m      4\u001B[0m \u001B[38;5;28;01mimport\u001B[39;00m \u001B[38;5;21;01myaml\u001B[39;00m\n\u001B[0;32m----> 5\u001B[0m \u001B[38;5;28;01mfrom\u001B[39;00m \u001B[38;5;21;01msymbolic_components\u001B[39;00m\u001B[38;5;21;01m.\u001B[39;00m\u001B[38;5;21;01mdetector\u001B[39;00m \u001B[38;5;28;01mimport\u001B[39;00m Detector\n\u001B[1;32m      6\u001B[0m \u001B[38;5;28;01mfrom\u001B[39;00m \u001B[38;5;21;01msymbolic_components\u001B[39;00m\u001B[38;5;21;01m.\u001B[39;00m\u001B[38;5;21;01mpositioner\u001B[39;00m \u001B[38;5;28;01mimport\u001B[39;00m Positioner\n\u001B[1;32m      7\u001B[0m \u001B[38;5;28;01mimport\u001B[39;00m \u001B[38;5;21;01mclingo\u001B[39;00m\n",
      "\u001B[0;31mModuleNotFoundError\u001B[0m: No module named 'symbolic_components'"
     ]
    }
   ],
   "source": [
    "import torch\n",
    "from ultralytics import YOLO \n",
    "import pandas as pd\n",
    "import yaml\n",
    "from symbolic_components.detector import Detector\n",
    "from symbolic_components.positioner import Positioner\n",
    "import clingo"
   ]
  },
  {
   "cell_type": "code",
   "outputs": [],
   "source": [
    "model = YOLO('/Users/maximvandecasteele/PycharmProjects/NeurASP/Object_detector/models/Mario_OD_vanilla_best.pt')"
   ],
   "metadata": {
    "collapsed": false,
    "ExecuteTime": {
     "start_time": "2024-04-28T07:20:48.573935Z"
    }
   },
   "id": "9e40a8b6fac456b8",
   "execution_count": null
  },
  {
   "cell_type": "code",
   "outputs": [],
   "source": [
    "class Solver:\n",
    "    def __init__(self):\n",
    "        super().__init__()\n",
    "        self.atoms = []\n",
    "\n",
    "    def solve(self, positions, show, locations):\n",
    "\n",
    "        control = clingo.Control(message_limit=0)\n",
    "        control.configuration.solve.models = 0\n",
    "\n",
    "        # add asp\n",
    "        control.add(\"base\", [], positions)\n",
    "        control.add(\"base\", [], locations)\n",
    "        control.add(\"base\", [], show)\n",
    "\n",
    "        control.ground([(\"base\", [])])\n",
    "\n",
    "        handle = control.solve(on_model=self.on_model)\n",
    "\n",
    "        if handle.satisfiable:\n",
    "            return self.atoms\n",
    "\n",
    "        return None\n",
    "\n",
    "    def on_model(self, model):\n",
    "        \"\"\"\n",
    "        This is the observer callback for the clingo Control object after solving. It is done in a separate thread,\n",
    "        which is why we use a new instantiation of the Solver class, otherwise its state is not thread safe\n",
    "        :param model:\n",
    "        \"\"\"\n",
    "        # print(\"Found solution:\", model)\n",
    "        symbols = model.symbols(shown=True)\n",
    "        for symbol in symbols:\n",
    "            # print(symbol)\n",
    "            self.atoms.append(symbol)\n"
   ],
   "metadata": {
    "collapsed": false,
    "ExecuteTime": {
     "start_time": "2024-04-28T07:20:48.574642Z"
    }
   },
   "id": "be7a066ed848f0be",
   "execution_count": null
  },
  {
   "cell_type": "code",
   "outputs": [],
   "source": [
    "if torch.backends.mps.is_available():\n",
    "    # mps_device = torch.device(self.device)\n",
    "    print(\"Using mps device.\")\n",
    "    device = 'mps'\n",
    "elif torch.cuda.is_available():\n",
    "    device_name = torch.cuda.get_device_name(1)\n",
    "    print(\"Using CUDA device:\", device_name)\n",
    "    device = 'cuda:1'\n",
    "else:\n",
    "    print(\"CUDA is not available\")\n",
    "    device = 'cpu'"
   ],
   "metadata": {
    "collapsed": false,
    "ExecuteTime": {
     "start_time": "2024-04-28T07:20:48.575221Z"
    }
   },
   "id": "172bdc48231ba41e",
   "execution_count": null
  },
  {
   "cell_type": "code",
   "outputs": [],
   "source": [
    "if torch.backends.mps.is_available():\n",
    "    config = {\n",
    "            \"detector_model_path\": '/Users/maximvandecasteele/PycharmProjects/NeurASP/Object_detector/models/YOLOv8-Mario-lvl1-3/weights/best.pt',\n",
    "            \"detector_label_path\": '/Users/maximvandecasteele/PycharmProjects/NeurASP/Object_detector/models/data.yaml',\n",
    "            \"positions_asp\": '/Users/maximvandecasteele/PycharmProjects/NeurASP/RL/asp/positions.lp',\n",
    "            \"show_asp\": '/Users/maximvandecasteele/PycharmProjects/NeurASP/RL/asp/show.lp',\n",
    "            \"constraints\": '/Users/maximvandecasteele/PycharmProjects/NeurASP/RL/asp/game_rules.lp',\n",
    "            \"show_actions\": '/Users/maximvandecasteele/PycharmProjects/NeurASP/RL/asp/show_constraints.lp'\n",
    "        }\n",
    "elif torch.cuda.is_available():\n",
    "    config = {\n",
    "            \"detector_model_path\": '/home/stefaan/local/python/NeurASP/Object_detector/models/YOLOv8-Mario-lvl1-3/weights/best.pt',\n",
    "            \"detector_label_path\": '/home/stefaan/local/python/NeurASP/Object_detector/models/data.yaml',\n",
    "            \"positions_asp\": '/home/stefaan/local/python/NeurASP/RL/asp/positions.lp',\n",
    "            \"show_asp\": '/home/stefaan/local/python/NeurASP/RL/asp/show.lp',\n",
    "            \"constraints\": '/home/stefaan/local/python/NeurASP/RL/asp/game_rules.lp',\n",
    "            \"show_actions\" : '/home/stefaan/local/python/NeurASP/RL/asp/show_constraints.lp',\n",
    "        }"
   ],
   "metadata": {
    "collapsed": false,
    "ExecuteTime": {
     "end_time": "2024-04-28T07:20:49.311937Z",
     "start_time": "2024-04-28T07:20:49.306732Z"
    }
   },
   "id": "71fefbe5d2c9010d",
   "execution_count": 2
  },
  {
   "cell_type": "code",
   "outputs": [],
   "source": [
    "f = open(config[\"constraints\"])\n",
    "constraints = f.read()\n",
    "f.close()\n",
    "\n",
    "f = open(config[\"show_actions\"])\n",
    "show = f.read()\n",
    "f.close()"
   ],
   "metadata": {
    "collapsed": false,
    "ExecuteTime": {
     "end_time": "2024-04-28T07:20:49.689713Z",
     "start_time": "2024-04-28T07:20:49.687410Z"
    }
   },
   "id": "3e0dbbc6d9546bab",
   "execution_count": 3
  },
  {
   "cell_type": "code",
   "outputs": [
    {
     "ename": "NameError",
     "evalue": "name 'Detector' is not defined",
     "output_type": "error",
     "traceback": [
      "\u001B[0;31m---------------------------------------------------------------------------\u001B[0m",
      "\u001B[0;31mNameError\u001B[0m                                 Traceback (most recent call last)",
      "Cell \u001B[0;32mIn[4], line 1\u001B[0m\n\u001B[0;32m----> 1\u001B[0m detector \u001B[38;5;241m=\u001B[39m \u001B[43mDetector\u001B[49m(config)\n\u001B[1;32m      2\u001B[0m positioner \u001B[38;5;241m=\u001B[39m Positioner(config)\n",
      "\u001B[0;31mNameError\u001B[0m: name 'Detector' is not defined"
     ]
    }
   ],
   "source": [
    "detector = Detector(config)\n",
    "positioner = Positioner(config)"
   ],
   "metadata": {
    "collapsed": false,
    "ExecuteTime": {
     "end_time": "2024-04-28T07:20:50.068793Z",
     "start_time": "2024-04-28T07:20:50.060018Z"
    }
   },
   "id": "7aa81e7193a38bc1",
   "execution_count": 4
  },
  {
   "cell_type": "code",
   "outputs": [],
   "source": [
    "observation = '/Users/maximvandecasteele/PycharmProjects/NeurASP/RL/frame_constraint_checking/SuperMarioBros-1-1-v0img_SuperMarioBros-1-1-v0_2024-01-19-15_21_26.png'"
   ],
   "metadata": {
    "collapsed": false,
    "ExecuteTime": {
     "end_time": "2024-04-27T16:47:13.585638Z",
     "start_time": "2024-04-27T16:47:13.578760Z"
    }
   },
   "id": "414966e8b9d755a0",
   "execution_count": 136
  },
  {
   "cell_type": "code",
   "outputs": [],
   "source": [
    "positions = detector.detect(observation)\n",
    "symbols = positioner.position(positions)"
   ],
   "metadata": {
    "collapsed": false,
    "ExecuteTime": {
     "end_time": "2024-04-27T16:47:14.284154Z",
     "start_time": "2024-04-27T16:47:13.862090Z"
    }
   },
   "id": "f4b51ec9ae89e147",
   "execution_count": 137
  },
  {
   "cell_type": "code",
   "outputs": [],
   "source": [
    "current_facts = ' '.join(symbols)"
   ],
   "metadata": {
    "collapsed": false,
    "ExecuteTime": {
     "end_time": "2024-04-27T16:47:14.287353Z",
     "start_time": "2024-04-27T16:47:14.284467Z"
    }
   },
   "id": "7f95bf39bbe83f60",
   "execution_count": 138
  },
  {
   "cell_type": "code",
   "outputs": [],
   "source": [
    "clingo_symbols = Solver().solve(constraints, show, current_facts)"
   ],
   "metadata": {
    "collapsed": false,
    "ExecuteTime": {
     "end_time": "2024-04-27T16:47:14.421720Z",
     "start_time": "2024-04-27T16:47:14.417253Z"
    }
   },
   "id": "881bc8891063c550",
   "execution_count": 139
  },
  {
   "cell_type": "code",
   "outputs": [
    {
     "data": {
      "text/plain": "[Function('action', [Number(4)], True), Function('action', [Number(2)], True)]"
     },
     "execution_count": 140,
     "metadata": {},
     "output_type": "execute_result"
    }
   ],
   "source": [
    "clingo_symbols"
   ],
   "metadata": {
    "collapsed": false,
    "ExecuteTime": {
     "end_time": "2024-04-27T16:47:14.695670Z",
     "start_time": "2024-04-27T16:47:14.691053Z"
    }
   },
   "id": "4e362434de89207e",
   "execution_count": 140
  },
  {
   "cell_type": "code",
   "outputs": [
    {
     "data": {
      "text/plain": "'cell(13,0,4). cell(12,5,1). cell(12,7,3). cell(9,2,2). cell(9,8,2). cell(9,9,2). cell(5,0,2). cell(5,1,2). cell(13,1,2). cell(13,2,2). cell(13,3,2). cell(13,4,2). cell(13,5,2). cell(13,6,2). cell(13,7,2). cell(13,8,2). cell(13,9,2). cell(13,10,2). cell(13,11,2). cell(13,12,2). cell(13,13,2). cell(13,14,2). cell(13,15,2). cell(9,14,2). cell(5,2,2).'"
     },
     "execution_count": 141,
     "metadata": {},
     "output_type": "execute_result"
    }
   ],
   "source": [
    "current_facts"
   ],
   "metadata": {
    "collapsed": false,
    "ExecuteTime": {
     "end_time": "2024-04-27T16:47:15.129834Z",
     "start_time": "2024-04-27T16:47:15.119741Z"
    }
   },
   "id": "12925c0e7c99781f",
   "execution_count": 141
  },
  {
   "cell_type": "code",
   "outputs": [],
   "source": [],
   "metadata": {
    "collapsed": false
   },
   "id": "51dae86984584928"
  }
 ],
 "metadata": {
  "kernelspec": {
   "display_name": "Python 3",
   "language": "python",
   "name": "python3"
  },
  "language_info": {
   "codemirror_mode": {
    "name": "ipython",
    "version": 2
   },
   "file_extension": ".py",
   "mimetype": "text/x-python",
   "name": "python",
   "nbconvert_exporter": "python",
   "pygments_lexer": "ipython2",
   "version": "2.7.6"
  }
 },
 "nbformat": 4,
 "nbformat_minor": 5
}
